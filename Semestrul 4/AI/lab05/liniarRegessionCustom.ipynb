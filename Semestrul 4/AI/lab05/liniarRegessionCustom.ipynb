{
 "cells": [
  {
   "cell_type": "code",
   "id": "initial_id",
   "metadata": {
    "collapsed": true,
    "ExecuteTime": {
     "end_time": "2025-04-16T08:09:40.113998Z",
     "start_time": "2025-04-16T08:09:40.103652Z"
    }
   },
   "source": [
    "import csv\n",
    "import os\n",
    "\n",
    "import matplotlib.pyplot as plt"
   ],
   "outputs": [],
   "execution_count": 14
  },
  {
   "metadata": {
    "ExecuteTime": {
     "end_time": "2025-04-16T08:09:40.582608Z",
     "start_time": "2025-04-16T08:09:40.559670Z"
    }
   },
   "cell_type": "code",
   "source": [
    "def loadData(fileName, inputVariabName, outputVariabName):\n",
    "    filePath = os.path.join(os.getcwd(), 'data', fileName)\n",
    "    data = []\n",
    "    dataNames = []\n",
    "    with open(filePath) as csv_file:\n",
    "        csv_reader = csv.reader(csv_file, delimiter=',')\n",
    "        line_count = 0\n",
    "        for row in csv_reader:\n",
    "            if line_count == 0:\n",
    "                dataNames = row\n",
    "            else:\n",
    "                data.append(row)\n",
    "            line_count += 1\n",
    "    selectedVariable = dataNames.index(inputVariabName)\n",
    "    selectedOutput = dataNames.index(outputVariabName)\n",
    "    valid_indices = [i for i in range(len(data))\n",
    "                     if data[i][selectedVariable] and float(data[i][selectedVariable]) != 0\n",
    "                     and data[i][selectedOutput] and float(data[i][selectedOutput]) != 0]\n",
    "    inputs = [float(data[i][selectedVariable]) for i in valid_indices]\n",
    "    outputs = [float(data[i][selectedOutput]) for i in valid_indices]\n",
    "\n",
    "    return inputs, outputs"
   ],
   "id": "2469ead53ddd77b0",
   "outputs": [],
   "execution_count": 15
  },
  {
   "metadata": {
    "ExecuteTime": {
     "end_time": "2025-04-16T08:09:41.131555Z",
     "start_time": "2025-04-16T08:09:41.119738Z"
    }
   },
   "cell_type": "code",
   "source": [
    "def plotDataHistogram(x, variableName):\n",
    "    n, bins, patches = plt.hist(x, 10)\n",
    "    plt.title('Histogram of ' + variableName)\n",
    "    plt.show()"
   ],
   "id": "590de6ad90e9b0c7",
   "outputs": [],
   "execution_count": 16
  },
  {
   "metadata": {
    "ExecuteTime": {
     "end_time": "2025-04-16T08:09:41.580958Z",
     "start_time": "2025-04-16T08:09:41.569640Z"
    }
   },
   "cell_type": "code",
   "source": [
    "def plotCheckLinearity(inputs, outputs, inputLabel, outputLabel):\n",
    "    plt.plot(inputs, outputs, 'ro')\n",
    "    plt.xlabel(inputLabel)\n",
    "    plt.ylabel(outputLabel)\n",
    "    plt.title(f'{inputLabel} vs. {outputLabel}')\n",
    "    plt.show()"
   ],
   "id": "25047d1ad468cd7e",
   "outputs": [],
   "execution_count": 17
  },
  {
   "metadata": {
    "ExecuteTime": {
     "end_time": "2025-04-16T08:09:42.022016Z",
     "start_time": "2025-04-16T08:09:42.008255Z"
    }
   },
   "cell_type": "code",
   "source": [
    "import random\n",
    "\n",
    "\n",
    "def splitDataTrainingValidation(inputs, outputs):\n",
    "    def choice(inputs, size, replace=True):\n",
    "        if replace:\n",
    "            return [inputs[random.randint(0, len(inputs) - 1)] for _ in range(size)]\n",
    "        else:\n",
    "            inputs_cpy = inputs.copy()\n",
    "            result = []\n",
    "\n",
    "            for _ in range(size):\n",
    "                if not inputs_cpy:\n",
    "                    break\n",
    "                idx = random.randint(0, len(inputs_cpy) - 1)\n",
    "                result.append(inputs_cpy.pop(idx))\n",
    "            return result\n",
    "\n",
    "    indexes = [i for i in range(len(inputs))]\n",
    "    trainSample = choice(indexes, int(0.8 * len(inputs)), replace=False)\n",
    "    validationSample = [i for i in indexes if not i in trainSample]\n",
    "\n",
    "    trainInputs = [inputs[i] for i in trainSample]\n",
    "    trainOutputs = [outputs[i] for i in trainSample]\n",
    "\n",
    "    validationInputs = [inputs[i] for i in validationSample]\n",
    "    validationOutputs = [outputs[i] for i in validationSample]\n",
    "    return trainInputs, trainOutputs, validationInputs, validationOutputs"
   ],
   "id": "ce018bf8d1497df9",
   "outputs": [],
   "execution_count": 18
  },
  {
   "metadata": {
    "ExecuteTime": {
     "end_time": "2025-04-16T08:09:42.659558Z",
     "start_time": "2025-04-16T08:09:42.653369Z"
    }
   },
   "cell_type": "code",
   "source": [
    "def plotTrainingValidationData(trainInputs, trainOutputs, validationInputs, validationOutputs, inputLabel, outputLabel):\n",
    "    plt.plot(trainInputs, trainOutputs, 'ro', label='training data')\n",
    "    plt.plot(validationInputs, validationOutputs, 'g^', label='validation data')\n",
    "    plt.title('train and validation data')\n",
    "    plt.xlabel(inputLabel)\n",
    "    plt.ylabel(outputLabel)\n",
    "    plt.legend()\n",
    "    plt.show()"
   ],
   "id": "9167f069b133ceb0",
   "outputs": [],
   "execution_count": 19
  },
  {
   "metadata": {
    "ExecuteTime": {
     "end_time": "2025-04-16T08:09:43.080374Z",
     "start_time": "2025-04-16T08:09:43.066249Z"
    }
   },
   "cell_type": "code",
   "source": [
    "class LinearRegressionCustom:\n",
    "    def __init__(self):\n",
    "        self.w0 = 0\n",
    "        self.w1 = 0\n",
    "\n",
    "    def fit(self, X, y):\n",
    "        x_values = [point[0] for point in X]\n",
    "\n",
    "        n = len(x_values)\n",
    "        mean_x = sum(x_values) / n\n",
    "        mean_y = sum(y) / n\n",
    "\n",
    "        numerator = sum((x_values[i] - mean_x) * (y[i] - mean_y) for i in range(n))\n",
    "        denominator = sum((x_values[i] - mean_x) ** 2 for i in range(n))\n",
    "\n",
    "        if denominator == 0:\n",
    "            self.w1 = 0\n",
    "        else:\n",
    "            self.w1 = numerator / denominator\n",
    "        self.w0 = mean_y - self.w1 * mean_x\n",
    "\n",
    "        return self\n",
    "\n",
    "    def predict(self, X):\n",
    "        return [self.w0 + self.w1 * x[0] for x in X]\n"
   ],
   "id": "2a2d9bc80a39339c",
   "outputs": [],
   "execution_count": 20
  },
  {
   "metadata": {
    "ExecuteTime": {
     "end_time": "2025-04-16T08:09:43.770097Z",
     "start_time": "2025-04-16T08:09:43.758419Z"
    }
   },
   "cell_type": "code",
   "source": [
    "def getModelRegressorAndParameters(trainInputs, trainOutputs):\n",
    "    xx = [[el] for el in trainInputs]\n",
    "    regressor = LinearRegressionCustom()\n",
    "    regressor.fit(xx, trainOutputs)\n",
    "    w0, w1 = regressor.w0, regressor.w1\n",
    "    return regressor, w0, w1"
   ],
   "id": "ebd34e4c30d1390c",
   "outputs": [],
   "execution_count": 21
  },
  {
   "metadata": {
    "ExecuteTime": {
     "end_time": "2025-04-16T08:09:44.120155Z",
     "start_time": "2025-04-16T08:09:44.103980Z"
    }
   },
   "cell_type": "code",
   "source": [
    "def plotLearntModel(trainInputs, trainOutputs, w0, w1, inputLabel, outputLabel):\n",
    "    noOfPoints = 1000\n",
    "    xref = []\n",
    "    val = min(trainInputs)\n",
    "    step = (max(trainInputs) - min(trainInputs)) / noOfPoints\n",
    "    for i in range(1, noOfPoints):\n",
    "        xref.append(val)\n",
    "        val += step\n",
    "    yref = [w0 + w1 * el for el in xref]\n",
    "\n",
    "    plt.plot(trainInputs, trainOutputs, 'ro', label='training data')\n",
    "    plt.plot(xref, yref, 'b-', label='learnt model')\n",
    "    plt.title('train data and the learnt model')\n",
    "    plt.xlabel(inputLabel)\n",
    "    plt.ylabel(outputLabel)\n",
    "    plt.legend()\n",
    "    plt.show()"
   ],
   "id": "e138b647fc1effd4",
   "outputs": [],
   "execution_count": 22
  },
  {
   "metadata": {
    "ExecuteTime": {
     "end_time": "2025-04-16T08:09:44.943387Z",
     "start_time": "2025-04-16T08:09:44.923789Z"
    }
   },
   "cell_type": "code",
   "source": [
    "def computeValidations(regressor, validationInputs):\n",
    "    return regressor.predict([[x] for x in validationInputs])\n",
    "\n",
    "\n",
    "def plotCompareRealAndComputedData(validationInputs, validationOutputs, computedValidationOutputs, inputLabel,\n",
    "                                   outputLabel):\n",
    "    plt.plot(validationInputs, computedValidationOutputs, 'yo', label='computed test data')\n",
    "    plt.plot(validationInputs, validationOutputs, 'g^', label='real test data')\n",
    "    plt.title('computed validation and real validation data')\n",
    "    plt.xlabel(inputLabel)\n",
    "    plt.ylabel(outputLabel)\n",
    "    plt.legend()\n",
    "    plt.show()"
   ],
   "id": "8fde90331329d68c",
   "outputs": [],
   "execution_count": 23
  },
  {
   "metadata": {
    "ExecuteTime": {
     "end_time": "2025-04-16T08:09:45.285331Z",
     "start_time": "2025-04-16T08:09:45.269084Z"
    }
   },
   "cell_type": "code",
   "source": [
    "def predictLiniarRegressionCustom(fileName, inputVariabName, outputVariabName, inputsLabel, outputLabel):\n",
    "    inputs, outputs = loadData(fileName, inputVariabName, outputVariabName)\n",
    "    plotDataHistogram(inputs, inputVariabName)\n",
    "    plotDataHistogram(outputs, outputVariabName)\n",
    "\n",
    "    plotCheckLinearity(inputs, outputs, inputsLabel, outputLabel)\n",
    "\n",
    "    trainInputs, trainOutputs, validationInputs, validationOutputs = splitDataTrainingValidation(inputs, outputs)\n",
    "    plotTrainingValidationData(trainInputs, trainOutputs, validationInputs, validationOutputs, inputsLabel, outputLabel)\n",
    "\n",
    "    regressor, w0, w1 = getModelRegressorAndParameters(trainInputs, trainOutputs)\n",
    "    plotLearntModel(trainInputs, trainOutputs, w0, w1, inputsLabel, outputLabel)\n",
    "\n",
    "    computedValidationsOutputs = computeValidations(regressor, validationInputs)\n",
    "    plotCompareRealAndComputedData(validationInputs, validationOutputs, computedValidationsOutputs, inputsLabel,\n",
    "                                   outputLabel)"
   ],
   "id": "108036489377e4f0",
   "outputs": [],
   "execution_count": 24
  }
 ],
 "metadata": {
  "kernelspec": {
   "display_name": "Python 3",
   "language": "python",
   "name": "python3"
  },
  "language_info": {
   "codemirror_mode": {
    "name": "ipython",
    "version": 2
   },
   "file_extension": ".py",
   "mimetype": "text/x-python",
   "name": "python",
   "nbconvert_exporter": "python",
   "pygments_lexer": "ipython2",
   "version": "2.7.6"
  }
 },
 "nbformat": 4,
 "nbformat_minor": 5
}
