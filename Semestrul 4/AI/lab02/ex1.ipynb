{
 "cells": [
  {
   "metadata": {
    "ExecuteTime": {
     "end_time": "2025-03-13T08:24:20.989226Z",
     "start_time": "2025-03-13T08:24:17.561485Z"
    }
   },
   "cell_type": "code",
   "source": [
    "import pandas as pd\n",
    "\n",
    "number_of_answers = 25974\n",
    "\n",
    "path = \"./data/surveyDataSience.csv\"\n",
    "df = pd.read_csv(path, low_memory=False)\n",
    "\n",
    "print(f\"Numarul respondentilor este {df.shape[0]}:\")\n",
    "print()\n",
    "\n",
    "df = (pd.read_csv(path, low_memory=False, nrows=number_of_answers)\n",
    "      .drop(0, axis=0)\n",
    "      .reset_index(drop=True))"
   ],
   "id": "90b6cc80bab2cd2f",
   "outputs": [
    {
     "name": "stdout",
     "output_type": "stream",
     "text": [
      "Numarul respondentilor este 25974:\n",
      "\n"
     ]
    }
   ],
   "execution_count": 2
  },
  {
   "metadata": {
    "ExecuteTime": {
     "end_time": "2025-03-13T08:24:21.005455Z",
     "start_time": "2025-03-13T08:24:20.998243Z"
    }
   },
   "cell_type": "code",
   "source": [
    "questions_individual = {}\n",
    "for col in df.columns:\n",
    "    if \"Q\" in col:\n",
    "        question_number = col.split(\"_\")[0]\n",
    "        if question_number not in questions_individual:\n",
    "            questions_individual[question_number] = []\n",
    "        questions_individual[question_number].append(col)\n",
    "\n",
    "print(f\"Numarul de intrebari este {len(questions_individual)}\")\n",
    "print()"
   ],
   "id": "2949a3ccc1695de0",
   "outputs": [
    {
     "name": "stdout",
     "output_type": "stream",
     "text": [
      "Numarul de intrebari este 42\n",
      "\n"
     ]
    }
   ],
   "execution_count": 3
  },
  {
   "metadata": {
    "ExecuteTime": {
     "end_time": "2025-03-13T08:24:50.158476Z",
     "start_time": "2025-03-13T08:24:46.726404Z"
    }
   },
   "cell_type": "code",
   "source": [
    "import math\n",
    "\n",
    "questions = {}\n",
    "for col in df.columns:\n",
    "    if \"Q\" not in col:\n",
    "        continue\n",
    "    question_number = col.split(\"_P\")[0]\n",
    "    if \"OTHER\" in col:\n",
    "        questions[question_number.split(\"_OTHER\")[0]].append(col)\n",
    "        continue\n",
    "    else:\n",
    "        if question_number not in questions:\n",
    "            questions[question_number] = []\n",
    "    questions[question_number].append(col)\n",
    "\n",
    "data = {}\n",
    "for question, values in questions.items():\n",
    "    if len(values) > 1:\n",
    "        data[question] = [\n",
    "            [v for v in row if not (isinstance(v, float) and math.isnan(v))]\n",
    "            for row in df[values].values.tolist()\n",
    "        ]\n",
    "    else:\n",
    "        data[question] = [v for v in df[values[0]].tolist() if not (isinstance(v, float) and math.isnan(v))]\n"
   ],
   "id": "8e4c64b645b08905",
   "outputs": [
    {
     "name": "stdout",
     "output_type": "stream",
     "text": [
      "dict_keys(['Q1', 'Q2', 'Q3', 'Q4', 'Q5', 'Q6', 'Q7', 'Q8', 'Q9', 'Q10', 'Q11', 'Q12', 'Q13', 'Q14', 'Q15', 'Q16', 'Q17', 'Q18', 'Q19', 'Q20', 'Q21', 'Q22', 'Q23', 'Q24', 'Q25', 'Q26', 'Q27_A', 'Q28', 'Q29_A', 'Q30_A', 'Q31_A', 'Q32_A', 'Q33', 'Q34_A', 'Q35', 'Q36_A', 'Q37_A', 'Q38_A', 'Q39', 'Q40', 'Q41', 'Q42', 'Q27_B', 'Q29_B', 'Q30_B', 'Q31_B', 'Q32_B', 'Q34_B', 'Q36_B', 'Q37_B', 'Q38_B'])\n"
     ]
    }
   ],
   "execution_count": 6
  },
  {
   "metadata": {
    "ExecuteTime": {
     "end_time": "2025-03-13T06:55:40.531698Z",
     "start_time": "2025-03-13T06:55:40.479372Z"
    }
   },
   "cell_type": "code",
   "source": [
    "import statistics\n",
    "\n",
    "time_per_degree = {\n",
    "    \"Bachelor's degree\": 3,\n",
    "    \"Master's degree\": 5,\n",
    "    \"Doctoral degree\": 8\n",
    "}\n",
    "\n",
    "average_superior_study_time = statistics.mean(time_per_degree.get(x, 0) for x in data[\"Q4\"])\n",
    "average_superior_study_time_romania = statistics.mean(time_per_degree.get(x, 0)\n",
    "                                                      for x, q3 in zip(data[\"Q4\"], data[\"Q3\"]) if q3 == \"Romania\")\n",
    "average_superior_study_time_romania_women = statistics.mean(time_per_degree.get(x, 0)\n",
    "                                                            for x, q3, q2 in zip(data[\"Q4\"], data[\"Q3\"], data[\"Q2\"]) if\n",
    "                                                            q3 == \"Romania\" and q2 == \"Woman\")\n",
    "print(f\"Timp mediu al studiilor superioare : {average_superior_study_time}\")\n",
    "print(f\"Timp mediu al studiilor superioare pentru cei din Romania: {average_superior_study_time_romania}\")\n",
    "print(f\"Timp mediu al studiilor superioare pentru femei din Romania: {average_superior_study_time_romania_women}\")"
   ],
   "id": "19534e8edfe36583",
   "outputs": [
    {
     "name": "stdout",
     "output_type": "stream",
     "text": [
      "Timp mediu al studiilor superioare : 3.9556847495476073\n",
      "Timp mediu al studiilor superioare pentru cei din Romania: 4.163934426229508\n",
      "Timp mediu al studiilor superioare pentru femei din Romania: 4.75\n"
     ]
    }
   ],
   "execution_count": 5
  },
  {
   "metadata": {
    "ExecuteTime": {
     "end_time": "2025-03-13T06:55:40.554479Z",
     "start_time": "2025-03-13T06:55:40.549019Z"
    }
   },
   "cell_type": "code",
   "source": [
    "# count_women_with_complete_responses = sum(\n",
    "#     all(data[key][index] for key in data.keys()) for index in range(number_of_answers - 1) if data[\"Q2\"][index] == \"Woman\")\n",
    "#\n",
    "# print(f\"Numar de femei cu raspunsuri complete: {count_women_with_complete_responses}\")\n",
    "print(sorted(len(data[key]) for key in data.keys()))"
   ],
   "id": "95244ec1b75ec2d5",
   "outputs": [
    {
     "name": "stdout",
     "output_type": "stream",
     "text": [
      "[2237, 3127, 4656, 15183, 15391, 15952, 16126, 16251, 16325, 18489, 23754, 24403, 24461, 24829, 25973, 25973, 25973, 25973, 25973, 25973, 25973, 25973, 25973, 25973, 25973, 25973, 25973, 25973, 25973, 25973, 25973, 25973, 25973, 25973, 25973, 25973, 25973, 25973, 25973, 25973, 25973, 25973, 25973, 25973, 25973, 25973, 25973, 25973, 25973, 25973, 25973]\n"
     ]
    }
   ],
   "execution_count": 6
  },
  {
   "metadata": {
    "ExecuteTime": {
     "end_time": "2025-03-13T06:55:40.600588Z",
     "start_time": "2025-03-13T06:55:40.572264Z"
    }
   },
   "cell_type": "code",
   "source": [
    "from collections import Counter\n",
    "\n",
    "count_women_python = sum(\n",
    "    1 for index in range(number_of_answers - 1) if 'Python' in data[\"Q7\"][index] and data[\"Q2\"][index] == \"Woman\")\n",
    "count_women_cpp = sum(\n",
    "    1 for index in range(number_of_answers - 1) if 'C++' in data[\"Q7\"][index] and data[\"Q2\"][index] == \"Woman\")\n",
    "\n",
    "ages_for_women_python = Counter([\n",
    "    data[\"Q1\"][index] for index in range(number_of_answers - 1)\n",
    "    if \"Python\" in data[\"Q7\"][index] and data[\"Q2\"][index] == \"Woman\"\n",
    "])\n",
    "ages_for_women_cpp = Counter([\n",
    "    data[\"Q1\"][index] for index in range(number_of_answers - 1)\n",
    "    if \"C++\" in data[\"Q7\"][index] and data[\"Q2\"][index] == \"Woman\"\n",
    "\n",
    "])\n",
    "print(f\"Numar de femei care programeaza in Python : {count_women_python}\")\n",
    "print(f\"Cea mai frecventa varsta a femeilor care programeaza in Python : {ages_for_women_python.most_common(1)[0]}\")\n",
    "print(f\"Numar de femei care programeaza in Python : {count_women_cpp}\")\n",
    "print(f\"Cea mai frecventa varsta a femeilor care programeaza in C++ : {ages_for_women_cpp.most_common(1)[0]}\")\n",
    "print(len(data[\"Q7\"]))\n"
   ],
   "id": "e619cea1211d1b09",
   "outputs": [
    {
     "name": "stdout",
     "output_type": "stream",
     "text": [
      "Numar de femei care programeaza in Python : 3877\n",
      "Cea mai frecventa varsta a femeilor care programeaza in Python : ('18-21', 959)\n",
      "Numar de femei care programeaza in Python : 972\n",
      "Cea mai frecventa varsta a femeilor care programeaza in C++ : ('18-21', 447)\n",
      "25973\n"
     ]
    }
   ],
   "execution_count": 7
  },
  {
   "metadata": {
    "ExecuteTime": {
     "end_time": "2025-03-13T06:55:41.949656Z",
     "start_time": "2025-03-13T06:55:41.935235Z"
    }
   },
   "cell_type": "code",
   "source": [
    "quesion_type = {\n",
    "    \"text\": [\n",
    "        \"Q2\", \"Q3\", \"Q4\", \"Q5\", \"Q7\", \"Q8\", \"Q9\", \"Q10\", \"Q11\", \"Q12\", \"Q14\", \"Q16\", \"Q17\", \"Q18\", \"Q19\", \"Q20\",\n",
    "        \"Q23\", \"Q24\", \"Q27_A\", \"Q27_B\", \"Q28\", \"Q29_A\", \"Q29_B\", \"Q30_A\", \"Q30_B\", \"Q31_A\", \"Q31_B\", \"Q32_A\", \"Q32_B\",\n",
    "        \"Q33\", \"Q34_A\", \"Q34_B\", \"Q35\", \"Q36_A\", \"Q36_B\", \"Q37_A\", \"Q37_B\", \"Q38_A\", \"Q38_B\", \"Q39\", \"Q40\", \"Q41\", \"Q42\"\n",
    "    ],\n",
    "    \"numeric\": [\n",
    "        \"Q1\", \"Q6\", \"Q13\", \"Q15\", \"Q21\", \"Q22\", \"Q25\", \"Q26\"\n",
    "    ]\n",
    "}\n"
   ],
   "id": "d830d5eccc068b10",
   "outputs": [],
   "execution_count": 8
  },
  {
   "metadata": {
    "ExecuteTime": {
     "end_time": "2025-03-13T06:55:46.628205Z",
     "start_time": "2025-03-13T06:55:43.661134Z"
    }
   },
   "cell_type": "code",
   "source": [
    "import numpy as np\n",
    "\n",
    "for q in data.keys():\n",
    "    # if q in quesion_type[\"text\"]:\n",
    "    #     continue\n",
    "    answ = data[q]\n",
    "    try:\n",
    "        answ = np.concatenate(answ)\n",
    "    except ValueError:\n",
    "        pass\n",
    "    unique_answers = np.unique(answ)\n",
    "    if q in quesion_type[\"text\"]:\n",
    "        print(f\"{q}: Valori posibile: {unique_answers}\")\n",
    "    else:\n",
    "        print(\n",
    "            f\"{q}: Valoare minima: {min(unique_answers)}, Valoare maxima: {max(unique_answers)}, Valori posibile: {unique_answers}\")\n",
    "    print()\n"
   ],
   "id": "8f69d61ef873aff7",
   "outputs": [
    {
     "name": "stdout",
     "output_type": "stream",
     "text": [
      "Q1: Valoare minima: 18-21, Valoare maxima: 70+, Valori posibile: ['18-21' '22-24' '25-29' '30-34' '35-39' '40-44' '45-49' '50-54' '55-59'\n",
      " '60-69' '70+']\n",
      "\n",
      "Q2: Valori posibile: ['Man' 'Nonbinary' 'Prefer not to say' 'Prefer to self-describe' 'Woman']\n",
      "\n",
      "Q3: Valori posibile: ['Algeria' 'Argentina' 'Australia' 'Austria' 'Bangladesh' 'Belarus'\n",
      " 'Belgium' 'Brazil' 'Canada' 'Chile' 'China' 'Colombia' 'Czech Republic'\n",
      " 'Denmark' 'Ecuador' 'Egypt' 'Ethiopia' 'France' 'Germany' 'Ghana'\n",
      " 'Greece' 'Hong Kong (S.A.R.)' 'I do not wish to disclose my location'\n",
      " 'India' 'Indonesia' 'Iran, Islamic Republic of...' 'Iraq' 'Ireland'\n",
      " 'Israel' 'Italy' 'Japan' 'Kazakhstan' 'Kenya' 'Malaysia' 'Mexico'\n",
      " 'Morocco' 'Nepal' 'Netherlands' 'Nigeria' 'Norway' 'Other' 'Pakistan'\n",
      " 'Peru' 'Philippines' 'Poland' 'Portugal' 'Romania' 'Russia'\n",
      " 'Saudi Arabia' 'Singapore' 'South Africa' 'South Korea' 'Spain'\n",
      " 'Sri Lanka' 'Sweden' 'Switzerland' 'Taiwan' 'Thailand' 'Tunisia' 'Turkey'\n",
      " 'Uganda' 'Ukraine' 'United Arab Emirates'\n",
      " 'United Kingdom of Great Britain and Northern Ireland'\n",
      " 'United States of America' 'Viet Nam']\n",
      "\n",
      "Q4: Valori posibile: [\"Bachelor's degree\" 'Doctoral degree' 'I prefer not to answer'\n",
      " \"Master's degree\" 'No formal education past high school'\n",
      " 'Professional doctorate'\n",
      " \"Some college/university study without earning a bachelor's degree\"]\n",
      "\n",
      "Q5: Valori posibile: ['Business Analyst' 'Currently not employed' 'DBA/Database Engineer'\n",
      " 'Data Analyst' 'Data Engineer' 'Data Scientist'\n",
      " 'Developer Relations/Advocacy' 'Machine Learning Engineer' 'Other'\n",
      " 'Product Manager' 'Program/Project Manager' 'Research Scientist'\n",
      " 'Software Engineer' 'Statistician' 'Student']\n",
      "\n",
      "Q6: Valoare minima: 1-3 years, Valoare maxima: I have never written code, Valori posibile: ['1-3 years' '10-20 years' '20+ years' '3-5 years' '5-10 years'\n",
      " '< 1 years' 'I have never written code']\n",
      "\n",
      "Q7: Valori posibile: ['Bash' 'C' 'C++' 'Java' 'Javascript' 'Julia' 'MATLAB' 'Other' 'Python'\n",
      " 'R' 'SQL' 'Swift']\n",
      "\n",
      "Q8: Valori posibile: ['Bash' 'C' 'C++' 'Java' 'Javascript' 'Julia' 'MATLAB' 'Other' 'Python'\n",
      " 'R' 'SQL' 'Swift']\n",
      "\n",
      "Q9: Valori posibile: ['  Notepad++  ' '  Spyder  ' '  Sublime Text  ' '  Vim / Emacs  '\n",
      " ' Jupyter Notebook' ' MATLAB ' ' PyCharm ' ' RStudio ' ' Visual Studio '\n",
      " ' Visual Studio Code (VSCode) '\n",
      " 'Jupyter (JupyterLab, Jupyter Notebooks, etc) ' 'Other']\n",
      "\n",
      "Q10: Valori posibile: [' Amazon EMR Notebooks ' ' Amazon Sagemaker Studio Notebooks '\n",
      " ' Binder / JupyterHub ' ' Code Ocean '\n",
      " ' Databricks Collaborative Notebooks ' ' Deepnote Notebooks '\n",
      " ' IBM Watson Studio ' ' Kaggle Notebooks' ' Observable Notebooks '\n",
      " ' Paperspace / Gradient ' ' Zeppelin / Zepl Notebooks ' 'Azure Notebooks'\n",
      " 'Colab Notebooks' 'Google Cloud Datalab'\n",
      " 'Google Cloud Notebooks (AI Platform / Vertex AI) ' 'Other']\n",
      "\n",
      "Q11: Valori posibile: ['A cloud computing platform (AWS, Azure, GCP, hosted notebooks, etc)'\n",
      " 'A deep learning workstation (NVIDIA GTX, LambdaLabs, etc)' 'A laptop'\n",
      " 'A personal computer / desktop' 'Other']\n",
      "\n",
      "Q12: Valori posibile: [' AWS Inferentia Chips ' ' AWS Trainium Chips ' ' Google Cloud TPUs '\n",
      " ' NVIDIA GPUs ' 'Other']\n",
      "\n",
      "Q13: Valoare minima: 2-5 times, Valoare maxima: Once, Valori posibile: ['2-5 times' '6-25 times' 'More than 25 times' 'Never' 'Once']\n",
      "\n",
      "Q14: Valori posibile: [' Altair ' ' Bokeh ' ' D3 js ' ' Geoplotlib ' ' Ggplot / ggplot2 '\n",
      " ' Leaflet / Folium ' ' Matplotlib ' ' Plotly / Plotly Express '\n",
      " ' Seaborn ' ' Shiny ' 'Other']\n",
      "\n",
      "Q15: Valoare minima: 1-2 years, Valoare maxima: Under 1 year, Valori posibile: ['1-2 years' '10-20 years' '2-3 years' '20 or more years' '3-4 years'\n",
      " '4-5 years' '5-10 years' 'I do not use machine learning methods'\n",
      " 'Under 1 year']\n",
      "\n",
      "Q16: Valori posibile: ['  Scikit-learn ' '  TensorFlow ' ' Caret ' ' CatBoost ' ' Fast.ai '\n",
      " ' H2O 3 ' ' Huggingface ' ' JAX ' ' Keras ' ' LightGBM ' ' MXNet '\n",
      " ' Prophet ' ' PyTorch ' ' PyTorch Lightning ' ' Tidymodels ' ' Xgboost '\n",
      " 'Other']\n",
      "\n",
      "Q17: Valori posibile: ['Bayesian Approaches' 'Convolutional Neural Networks'\n",
      " 'Decision Trees or Random Forests' 'Dense Neural Networks (MLPs, etc)'\n",
      " 'Evolutionary Approaches' 'Generative Adversarial Networks'\n",
      " 'Gradient Boosting Machines (xgboost, lightgbm, etc)'\n",
      " 'Linear or Logistic Regression' 'Other' 'Recurrent Neural Networks'\n",
      " 'Transformer Networks (BERT, gpt-3, etc)']\n",
      "\n",
      "Q18: Valori posibile: ['General purpose image/video tools (PIL, cv2, skimage, etc)'\n",
      " 'Generative Networks (GAN, VAE, etc)'\n",
      " 'Image classification and other general purpose networks (VGG, Inception, ResNet, ResNeXt, NASNet, EfficientNet, etc)'\n",
      " 'Image segmentation methods (U-Net, Mask R-CNN, etc)'\n",
      " 'Object detection methods (YOLOv3, RetinaNet, etc)' 'Other']\n",
      "\n",
      "Q19: Valori posibile: ['Contextualized embeddings (ELMo, CoVe)'\n",
      " 'Encoder-decorder models (seq2seq, vanilla transformers)' 'Other'\n",
      " 'Transformer language models (GPT-3, BERT, XLnet, etc)'\n",
      " 'Word embeddings/vectors (GLoVe, fastText, word2vec)']\n",
      "\n",
      "Q20: Valori posibile: ['Academics/Education' 'Accounting/Finance' 'Broadcasting/Communications'\n",
      " 'Computers/Technology' 'Energy/Mining' 'Government/Public Service'\n",
      " 'Hospitality/Entertainment/Sports' 'Insurance/Risk Assessment'\n",
      " 'Manufacturing/Fabrication' 'Marketing/CRM' 'Medical/Pharmaceutical'\n",
      " 'Military/Security/Defense' 'Non-profit/Service'\n",
      " 'Online Business/Internet-based Sales'\n",
      " 'Online Service/Internet-based Services' 'Other' 'Retail/Sales'\n",
      " 'Shipping/Transportation']\n",
      "\n",
      "Q21: Valoare minima: 0-49 employees, Valoare maxima: 50-249 employees, Valori posibile: ['0-49 employees' '10,000 or more employees' '1000-9,999 employees'\n",
      " '250-999 employees' '50-249 employees']\n",
      "\n",
      "Q22: Valoare minima: 0, Valoare maxima: 9-May, Valori posibile: ['0' '14-Oct' '15-19' '2-Jan' '20+' '4-Mar' '9-May']\n",
      "\n",
      "Q23: Valori posibile: ['I do not know' 'No (we do not use ML methods)'\n",
      " 'We are exploring ML methods (and may one day put a model into production)'\n",
      " 'We have well established ML methods (i.e., models in production for more than 2 years)'\n",
      " 'We recently started using ML methods (i.e., models in production for less than 2 years)'\n",
      " 'We use ML methods for generating insights (but do not put working models into production)']\n",
      "\n",
      "Q24: Valori posibile: ['Analyze and understand data to influence product or business decisions'\n",
      " 'Build and/or run a machine learning service that operationally improves my product or workflows'\n",
      " 'Build and/or run the data infrastructure that my business uses for storing, analyzing, and operationalizing data'\n",
      " 'Build prototypes to explore applying machine learning to new areas'\n",
      " 'Do research that advances the state of the art of machine learning'\n",
      " 'Experimentation and iteration to improve existing ML models'\n",
      " 'None of these activities are an important part of my role at work'\n",
      " 'Other']\n",
      "\n",
      "Q25: Valoare minima: $0-999, Valoare maxima: >$1,000,000, Valori posibile: ['$0-999' '$500,000-999,999' '1,000-1,999' '10,000-14,999'\n",
      " '100,000-124,999' '125,000-149,999' '15,000-19,999' '150,000-199,999'\n",
      " '2,000-2,999' '20,000-24,999' '200,000-249,999' '25,000-29,999'\n",
      " '250,000-299,999' '3,000-3,999' '30,000-39,999' '300,000-499,999'\n",
      " '4,000-4,999' '40,000-49,999' '5,000-7,499' '50,000-59,999'\n",
      " '60,000-69,999' '7,500-9,999' '70,000-79,999' '80,000-89,999'\n",
      " '90,000-99,999' '>$1,000,000']\n",
      "\n",
      "Q26: Valoare minima: $0 ($USD), Valoare maxima: $1000-$9,999, Valori posibile: ['$0 ($USD)' '$1-$99' '$10,000-$99,999' '$100,000 or more ($USD)'\n",
      " '$100-$999' '$1000-$9,999']\n",
      "\n",
      "Q27_A: Valori posibile: [' Alibaba Cloud ' ' Amazon Web Services (AWS) '\n",
      " ' Google Cloud Platform (GCP) ' ' IBM Cloud / Red Hat '\n",
      " ' Microsoft Azure ' ' Oracle Cloud ' ' SAP Cloud ' ' Salesforce Cloud '\n",
      " ' Tencent Cloud ' ' VMware Cloud ' 'Other']\n",
      "\n",
      "Q28: Valori posibile: [' Alibaba Cloud ' ' Amazon Web Services (AWS) '\n",
      " ' Google Cloud Platform (GCP) ' ' IBM Cloud / Red Hat '\n",
      " ' Microsoft Azure ' ' Oracle Cloud ' ' SAP Cloud ' ' Salesforce Cloud '\n",
      " ' Tencent Cloud ' ' VMware Cloud ' 'None were satisfactory' 'Other'\n",
      " 'They all had a similarly enjoyable developer experience']\n",
      "\n",
      "Q29_A: Valori posibile: [' Amazon Elastic Compute Cloud (EC2) ' ' Google Cloud Compute Engine '\n",
      " ' Microsoft Azure Virtual Machines ' 'No / None' 'Other']\n",
      "\n",
      "Q30_A: Valori posibile: [' Amazon Elastic File System (EFS)  '\n",
      " ' Amazon Simple Storage Service (S3)  ' ' Google Cloud Filestore '\n",
      " 'Google Cloud Storage (GCS)   ' 'Microsoft Azure Data Lake Storage '\n",
      " 'Microsoft Azure Disk Storage ' 'No / None' 'Other']\n",
      "\n",
      "Q31_A: Valori posibile: [' Alteryx' ' Amazon SageMaker ' ' Azure Machine Learning Studio '\n",
      " ' DataRobot' ' Databricks' ' Dataiku' ' Google Cloud Vertex AI'\n",
      " ' Rapidminer' 'No / None' 'Other']\n",
      "\n",
      "Q32_A: Valori posibile: ['Amazon Aurora ' 'Amazon DynamoDB ' 'Amazon RDS ' 'Amazon Redshift '\n",
      " 'Google Cloud BigQuery ' 'Google Cloud BigTable '\n",
      " 'Google Cloud Firestore ' 'Google Cloud SQL ' 'Google Cloud Spanner '\n",
      " 'IBM Db2 ' 'Microsoft Azure Cosmos DB ' 'Microsoft Azure SQL Database '\n",
      " 'Microsoft SQL Server ' 'MongoDB ' 'MySQL ' 'Oracle Database ' 'Other'\n",
      " 'PostgreSQL ' 'SQLite ' 'Snowflake ']\n",
      "\n",
      "Q33: Valori posibile: ['Amazon Aurora ' 'Amazon DynamoDB ' 'Amazon RDS ' 'Amazon Redshift '\n",
      " 'Google Cloud BigQuery ' 'Google Cloud BigTable '\n",
      " 'Google Cloud Firestore ' 'Google Cloud SQL ' 'Google Cloud Spanner '\n",
      " 'IBM Db2 ' 'Microsoft Azure Cosmos DB ' 'Microsoft Azure SQL Database '\n",
      " 'Microsoft SQL Server ' 'MongoDB ' 'MySQL ' 'Oracle Database ' 'Other'\n",
      " 'PostgreSQL ' 'SQLite ' 'Snowflake ']\n",
      "\n",
      "Q34_A: Valori posibile: ['Alteryx ' 'Amazon QuickSight' 'Domo' 'Google Data Studio' 'Looker'\n",
      " 'Microsoft Azure Synapse ' 'Microsoft Power BI' 'Other' 'Qlik'\n",
      " 'SAP Analytics Cloud ' 'Salesforce' 'Sisense ' 'TIBCO Spotfire' 'Tableau'\n",
      " 'Tableau CRM' 'Thoughtspot ']\n",
      "\n",
      "Q35: Valori posibile: ['Alteryx ' 'Amazon QuickSight' 'Domo' 'Google Data Studio' 'Looker'\n",
      " 'Microsoft Azure Synapse ' 'Microsoft Power BI' 'Other' 'Qlik'\n",
      " 'SAP Analytics Cloud ' 'Salesforce' 'Sisense ' 'TIBCO Spotfire' 'Tableau'\n",
      " 'Tableau CRM' 'Thoughtspot ']\n",
      "\n",
      "Q36_A: Valori posibile: ['Automated data augmentation (e.g. imgaug, albumentations)'\n",
      " 'Automated feature engineering/selection (e.g. tpot, boruta_py)'\n",
      " 'Automated hyperparameter tuning (e.g. hyperopt, ray.tune, Vizier)'\n",
      " 'Automated model architecture searches (e.g. darts, enas)'\n",
      " 'Automated model selection (e.g. auto-sklearn, xcessiv)'\n",
      " 'Automation of full ML pipelines (e.g. Google AutoML, H2O Driverless AI)'\n",
      " 'No / None' 'Other']\n",
      "\n",
      "Q37_A: Valori posibile: ['  Amazon Sagemaker Autopilot ' '  Azure Automated Machine Learning '\n",
      " ' DataRobot AutoML ' ' Databricks AutoML ' ' Google Cloud AutoML '\n",
      " ' H2O Driverless AI  ' 'No / None' 'Other']\n",
      "\n",
      "Q38_A: Valori posibile: [' ClearML ' ' Comet.ml ' ' Domino Model Monitor ' ' Guild.ai ' ' MLflow '\n",
      " ' Neptune.ai ' ' Polyaxon ' ' Sacred + Omniboard ' ' TensorBoard '\n",
      " ' Weights & Biases ' 'No / None' 'Other']\n",
      "\n",
      "Q39: Valori posibile: [' Colab ' ' GitHub ' ' Kaggle ' ' NBViewer ' ' Personal blog '\n",
      " ' Plotly Dash ' ' Shiny ' ' Streamlit ' 'I do not share my work publicly'\n",
      " 'Other']\n",
      "\n",
      "Q40: Valori posibile: ['Cloud-certification programs (direct from AWS, Azure, GCP, or similar)'\n",
      " 'Coursera' 'DataCamp' 'Fast.ai' 'Kaggle Learn Courses'\n",
      " 'LinkedIn Learning' 'Other' 'Udacity' 'Udemy'\n",
      " 'University Courses (resulting in a university degree)' 'edX']\n",
      "\n",
      "Q41: Valori posibile: ['Advanced statistical software (SPSS, SAS, etc.)'\n",
      " 'Basic statistical software (Microsoft Excel, Google Sheets, etc.)'\n",
      " 'Business intelligence software (Salesforce, Tableau, Spotfire, etc.)'\n",
      " 'Cloud-based data software & APIs (AWS, GCP, Azure, etc.)'\n",
      " 'Local development environments (RStudio, JupyterLab, etc.)' 'Other']\n",
      "\n",
      "Q42: Valori posibile: ['Blogs (Towards Data Science, Analytics Vidhya, etc)'\n",
      " 'Course Forums (forums.fast.ai, Coursera forums, etc)'\n",
      " \"Email newsletters (Data Elixir, O'Reilly Data & AI, etc)\"\n",
      " 'Journal Publications (peer-reviewed journals, conference proceedings, etc)'\n",
      " 'Kaggle (notebooks, forums, etc)' 'Other'\n",
      " \"Podcasts (Chai Time Data Science, O'Reilly Data Show, etc)\"\n",
      " 'Reddit (r/machinelearning, etc)'\n",
      " 'Slack Communities (ods.ai, kagglenoobs, etc)'\n",
      " 'Twitter (data science influencers)'\n",
      " 'YouTube (Kaggle YouTube, Cloud AI Adventures, etc)']\n",
      "\n",
      "Q27_B: Valori posibile: [' Alibaba Cloud ' ' Amazon Web Services (AWS) '\n",
      " ' Google Cloud Platform (GCP) ' ' IBM Cloud / Red Hat '\n",
      " ' Microsoft Azure ' ' Oracle Cloud ' ' SAP Cloud ' ' Salesforce Cloud '\n",
      " ' Tencent Cloud ' ' VMware Cloud ' 'Other']\n",
      "\n",
      "Q29_B: Valori posibile: [' Amazon Elastic Compute Cloud (EC2) ' ' Google Cloud Compute Engine '\n",
      " ' Microsoft Azure Virtual Machines ' 'Other']\n",
      "\n",
      "Q30_B: Valori posibile: []\n",
      "\n",
      "Q31_B: Valori posibile: [' Alteryx' ' Amazon SageMaker ' ' Azure Machine Learning Studio '\n",
      " ' DataRobot' ' Databricks' ' Dataiku' ' Google Cloud Vertex AI'\n",
      " ' Rapidminer' 'Other']\n",
      "\n",
      "Q32_B: Valori posibile: ['Amazon Aurora ' 'Amazon DynamoDB ' 'Amazon RDS ' 'Amazon Redshift '\n",
      " 'Google Cloud BigQuery ' 'Google Cloud BigTable '\n",
      " 'Google Cloud Firestore ' 'Google Cloud SQL ' 'Google Cloud Spanner '\n",
      " 'IBM Db2 ' 'Microsoft Azure Cosmos DB ' 'Microsoft Azure SQL Database '\n",
      " 'Microsoft SQL Server ' 'MongoDB ' 'MySQL ' 'Oracle Database ' 'Other'\n",
      " 'PostgreSQL ' 'SQLite ' 'Snowflake ']\n",
      "\n",
      "Q34_B: Valori posibile: ['Alteryx ' 'Amazon QuickSight' 'Domo' 'Google Data Studio' 'Looker'\n",
      " 'Microsoft Azure Synapse ' 'Microsoft Power BI' 'Other' 'Qlik'\n",
      " 'SAP Analytics Cloud ' 'Salesforce' 'Sisense ' 'TIBCO Spotfire' 'Tableau'\n",
      " 'Tableau CRM' 'Thoughtspot ']\n",
      "\n",
      "Q36_B: Valori posibile: ['Automated data augmentation (e.g. imgaug, albumentations)'\n",
      " 'Automated feature engineering/selection (e.g. tpot, boruta_py)'\n",
      " 'Automated hyperparameter tuning (e.g. hyperopt, ray.tune, Vizier)'\n",
      " 'Automated model architecture searches (e.g. darts, enas)'\n",
      " 'Automated model selection (e.g. auto-sklearn, xcessiv)'\n",
      " 'Automation of full ML pipelines (e.g. Google Cloud AutoML, H2O Driverless AI)'\n",
      " 'Other']\n",
      "\n",
      "Q37_B: Valori posibile: ['  Amazon Sagemaker Autopilot ' '  Azure Automated Machine Learning '\n",
      " ' DataRobot AutoML ' ' Databricks AutoML ' ' Google Cloud AutoML '\n",
      " ' H2O Driverless AI  ' 'Other']\n",
      "\n",
      "Q38_B: Valori posibile: [' ClearML ' ' Comet.ml ' ' Domino Model Monitor ' ' Guild.ai ' ' MLflow '\n",
      " ' Neptune.ai ' ' Polyaxon ' ' Sacred + Omniboard ' ' TensorBoard '\n",
      " ' Weights & Biases ' 'Other']\n",
      "\n"
     ]
    }
   ],
   "execution_count": 9
  },
  {
   "metadata": {
    "ExecuteTime": {
     "end_time": "2025-03-13T06:58:17.113982Z",
     "start_time": "2025-03-13T06:58:16.685633Z"
    }
   },
   "cell_type": "code",
   "source": [
    "def parse_time_working(value):\n",
    "    value = value.split(\" years\")[0]\n",
    "    if \"-\" in value:\n",
    "        a, b = map(float, value.split(\"-\"))\n",
    "        return int((a + b) / 2)\n",
    "    if \"<\" in value:\n",
    "        return int(value.split(\"< \")[1])/2\n",
    "    if \"+\" in value:\n",
    "        return int(value.split(\"+\")[0])\n",
    "    return 0\n",
    "\n",
    "time_spent_working = [parse_time_working(x) for x in data[\"Q6\"]]\n",
    "print(f\"TImp minim lucra:{min(time_spent_working)}\")\n",
    "print(f\"Timp maxim lucrat:{max(time_spent_working)}\")\n",
    "print(f\"Timp mediu lucrat:{statistics.mean(time_spent_working)}\")\n",
    "print(f\"Deviatie standard:{statistics.stdev(time_spent_working)}\")\n",
    "print(f\"Valoare mediana:{statistics.median(time_spent_working)}\")\n",
    "\n",
    "import matplotlib.pyplot as plt\n",
    "\n",
    "fig, ax = plt.subplots(figsize=(7, 5))\n",
    "ax.hist(time_spent_working, bins=10)\n",
    "ax.set_title('Time spent working')\n",
    "plt.show()\n",
    "# outliers sunt cei cu 15, 20 de ani vechime"
   ],
   "id": "2fa89994abbd0f14",
   "outputs": [
    {
     "name": "stdout",
     "output_type": "stream",
     "text": [
      "TImp minim lucra:0\n",
      "Timp maxim lucrat:20\n",
      "Timp mediu lucrat:4.86333885188465\n",
      "Deviatie standard:5.777152229374191\n",
      "Valoare mediana:2\n"
     ]
    },
    {
     "data": {
      "text/plain": [
       "<Figure size 700x500 with 1 Axes>"
      ],
      "image/png": "[encoded data removed]"
     },
     "metadata": {},
     "output_type": "display_data"
    }
   ],
   "execution_count": 14
  },
  {
   "metadata": {
    "ExecuteTime": {
     "end_time": "2025-03-12T15:38:59.377117Z",
     "start_time": "2025-03-12T15:38:58.622249Z"
    }
   },
   "cell_type": "code",
   "source": [
    "import matplotlib.pyplot as plt\n",
    "python_programmers_age = Counter([data[\"Q1\"][index] for index in range(number_of_answers - 1)])\n",
    "plt.bar(python_programmers_age.keys(), python_programmers_age.values())\n",
    "plt.show()\n",
    "\n"
   ],
   "id": "f84d2bcc3cd2eb8b",
   "outputs": [
    {
     "data": {
      "text/plain": [
       "<Figure size 640x480 with 1 Axes>"
      ],
      "image/png": "[encoded data removed]"
     },
     "metadata": {},
     "output_type": "display_data"
    }
   ],
   "execution_count": 10
  },
  {
   "metadata": {
    "ExecuteTime": {
     "end_time": "2025-03-12T15:39:00.181363Z",
     "start_time": "2025-03-12T15:38:59.988731Z"
    }
   },
   "cell_type": "code",
   "source": [
    "import matplotlib.pyplot as plt\n",
    "python_programmers_age_ro = Counter([data[\"Q1\"][index] for index in range(number_of_answers - 1) if data[\"Q3\"][index] == \"Romania\"])\n",
    "plt.bar(python_programmers_age_ro.keys(), python_programmers_age_ro.values())\n",
    "plt.show()"
   ],
   "id": "e22368a6ab3e240b",
   "outputs": [
    {
     "data": {
      "text/plain": [
       "<Figure size 640x480 with 1 Axes>"
      ],
      "image/png": "[encoded data removed]"
     },
     "metadata": {},
     "output_type": "display_data"
    }
   ],
   "execution_count": 11
  },
  {
   "metadata": {
    "ExecuteTime": {
     "end_time": "2025-03-12T15:39:00.939856Z",
     "start_time": "2025-03-12T15:39:00.803020Z"
    }
   },
   "cell_type": "code",
   "source": [
    "import matplotlib.pyplot as plt\n",
    "python_programmers_age_ro_women = Counter([data[\"Q1\"][index] for index in range(number_of_answers - 1) if data[\"Q3\"][index] == \"Romania\" and data[\"Q2\"][index] == \"Woman\"])\n",
    "plt.bar(python_programmers_age_ro_women.keys(), python_programmers_age_ro_women.values())\n",
    "plt.show()"
   ],
   "id": "80a343d854c0f374",
   "outputs": [
    {
     "data": {
      "text/plain": [
       "<Figure size 640x480 with 1 Axes>"
      ],
      "image/png": "[encoded data removed]"
     },
     "metadata": {},
     "output_type": "display_data"
    }
   ],
   "execution_count": 12
  },
  {
   "metadata": {
    "ExecuteTime": {
     "end_time": "2025-03-13T07:05:04.137057Z",
     "start_time": "2025-03-13T07:05:02.996242Z"
    }
   },
   "cell_type": "code",
   "source": [
    "# normalizare timp studiu\n",
    "time_spent_studying_with_outliers = [time_per_degree.get(x, 0) for x in data[\"Q4\"]]\n",
    "time_spent_studying = [x for x in time_spent_studying_with_outliers if x not in {0, 8}]\n",
    "min_time_studying = min(time_spent_studying)\n",
    "max_time_studying = max(time_spent_studying)\n",
    "\n",
    "normalized_time_spent_studying = [(t - min_time_studying) / (max_time_studying - min_time_studying) for t in time_spent_studying]\n",
    "\n",
    "\n",
    "fig, (ax1, ax2) = plt.subplots(1, 2, figsize=(15,5))\n",
    "ax1.hist(time_spent_studying, 20)\n",
    "ax1.set_title('time per degree histo')\n",
    "ax2.hist(normalized_time_spent_studying, 20)\n",
    "ax2.set_title('[0,1] scaled time per degree histo')\n",
    "plt.show()"
   ],
   "id": "c67351189ea4f270",
   "outputs": [
    {
     "data": {
      "text/plain": [
       "<Figure size 1500x500 with 2 Axes>"
      ],
      "image/png": "[encoded data removed]"
     },
     "metadata": {},
     "output_type": "display_data"
    }
   ],
   "execution_count": 26
  },
  {
   "metadata": {
    "ExecuteTime": {
     "end_time": "2025-03-13T07:06:50.836191Z",
     "start_time": "2025-03-13T07:06:49.986480Z"
    }
   },
   "cell_type": "code",
   "source": [
    "#normalizare timp lucru\n",
    "time_spent_working_with_outliers = [parse_time_working(x) for x in data[\"Q6\"]]\n",
    "time_spent_working = [x for x in time_spent_working_with_outliers if x not in {15, 20}]\n",
    "min_time_working = min(time_spent_working)\n",
    "max_time_working = max(time_spent_working)\n",
    "\n",
    "normalized_time_spent_working = [(t - min_time_working) / (max_time_working - min_time_working) for t in time_spent_working]\n",
    "\n",
    "\n",
    "fig, (ax1, ax2) = plt.subplots(1, 2, figsize=(15,5))\n",
    "ax1.hist(time_spent_working, 20)\n",
    "ax1.set_title('time per work histo')\n",
    "ax2.hist(normalized_time_spent_working, 20)\n",
    "ax2.set_title('[0,1] scaled time per work histo')\n",
    "plt.show()"
   ],
   "id": "81f2cdbc415dea6a",
   "outputs": [
    {
     "data": {
      "text/plain": [
       "<Figure size 1500x500 with 2 Axes>"
      ],
      "image/png": "[encoded data removed]"
     },
     "metadata": {},
     "output_type": "display_data"
    }
   ],
   "execution_count": 32
  },
  {
   "metadata": {},
   "cell_type": "code",
   "outputs": [],
   "execution_count": null,
   "source": "",
   "id": "317c2b01bb096774"
  }
 ],
 "metadata": {
  "kernelspec": {
   "name": "python3",
   "language": "python",
   "display_name": "Python 3 (ipykernel)"
  }
 },
 "nbformat": 5,
 "nbformat_minor": 9
}
