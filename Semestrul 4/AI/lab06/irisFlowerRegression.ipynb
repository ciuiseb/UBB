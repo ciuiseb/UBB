{
 "cells": [
  {
   "metadata": {},
   "cell_type": "code",
   "outputs": [],
   "execution_count": null,
   "source": [
    "import csv\n",
    "import os\n",
    "\n",
    "import matplotlib.pyplot as plt\n",
    "import numpy as np\n",
    "\n",
    "from CustomGDRegression import CustomGDRegressor"
   ],
   "id": "3224312bc8f6a8ec"
  },
  {
   "metadata": {},
   "cell_type": "code",
   "outputs": [],
   "execution_count": null,
   "source": [
    "def loadDataMulti(fileName, firstInputVariabName, secondInputVariabName, outputVariabName):\n",
    "    filePath = os.path.join(os.getcwd(), 'data', fileName)\n",
    "    data = []\n",
    "\n",
    "    with open(filePath) as csv_file:\n",
    "        csv_reader = csv.reader(csv_file, delimiter=',')\n",
    "        for row in csv_reader:\n",
    "            data.append(row)\n",
    "    sepalLenghtIdx = 0\n",
    "    sepalWidthtIdx = 1\n",
    "    petalLengthIdx = 2\n",
    "    petalWidthIdx = 3\n",
    "    classIdx = 4\n",
    "\n",
    "    irisMap = {\n",
    "        'Iris-setosa': 0,\n",
    "        'Iris-versicolor': 1,\n",
    "        'Iris-virginica': 2\n",
    "    }\n",
    "\n",
    "    validIndex = []\n",
    "    for i in range(len(data)):\n",
    "        float(data[i][sepalLenghtIdx])\n",
    "        float(data[i][sepalWidthtIdx])\n",
    "        float(data[i][petalLengthIdx])\n",
    "        float(data[i][petalWidthIdx])\n",
    "        if data[i][classIdx] in irisMap:\n",
    "            validIndex.append(i)\n",
    "\n",
    "    inputs = [[float(data[i][sepalLenghtIdx]) * float(data[i][sepalWidthtIdx]),\n",
    "               float(data[i][petalLengthIdx]) * float(data[i][petalWidthIdx])]\n",
    "                for i in validIndex]\n",
    "\n",
    "    outputs = [irisMap[data[i][classIdx]] for i in validIndex]\n",
    "\n",
    "    return inputs, outputs"
   ],
   "id": "f348254251f12a88"
  },
  {
   "metadata": {},
   "cell_type": "code",
   "outputs": [],
   "execution_count": null,
   "source": [
    "def plotDataHistogram(x, variableName):\n",
    "    n, bins, patches = plt.hist(x, 10)\n",
    "    plt.title('Histogram of ' + variableName)\n",
    "    plt.show()"
   ],
   "id": "8b8c41931b364bf"
  },
  {
   "metadata": {},
   "cell_type": "code",
   "outputs": [],
   "execution_count": null,
   "source": [
    "def plotCheckLinearityMulti(inputs, outputs, firstInputLabel, secondInputLabel, outputLabel):\n",
    "    fig = plt.figure(figsize=(10, 8))\n",
    "    ax = fig.add_subplot(111, projection='3d')\n",
    "\n",
    "    first_feature = [data_point[0] for data_point in inputs]\n",
    "    second_feature = [data_point[1] for data_point in inputs]\n",
    "\n",
    "    ax.scatter(first_feature, second_feature, outputs, c='r', marker='o')\n",
    "\n",
    "    ax.set_xlabel(firstInputLabel)\n",
    "    ax.set_ylabel(secondInputLabel)\n",
    "    ax.set_zlabel(outputLabel)\n",
    "    ax.set_title('3D Plot of Data')\n",
    "    plt.show()\n"
   ],
   "id": "288ce277487bf4a1"
  },
  {
   "metadata": {},
   "cell_type": "code",
   "outputs": [],
   "execution_count": null,
   "source": [
    "def splitDataTrainingValidation(inputs, outputs):\n",
    "    np.random.seed(1)\n",
    "    indexes = [i for i in range(len(inputs))]\n",
    "    trainSample = np.random.choice(indexes, int(0.8 * len(inputs)), replace=False)\n",
    "    validationSample = [i for i in indexes if not i in trainSample]\n",
    "\n",
    "    trainInputs = [inputs[i] for i in trainSample]\n",
    "    trainOutputs = [outputs[i] for i in trainSample]\n",
    "\n",
    "    validationInputs = [inputs[i] for i in validationSample]\n",
    "    validationOutputs = [outputs[i] for i in validationSample]\n",
    "    return trainInputs, trainOutputs, validationInputs, validationOutputs"
   ],
   "id": "5bbaeaef0ed73edf"
  },
  {
   "metadata": {},
   "cell_type": "code",
   "outputs": [],
   "execution_count": null,
   "source": [
    "def plotTrainingValidationDataMulti(trainInputs, trainOutputs, validationInputs, validationOutputs,\n",
    "                                    firstInputLabel, secondInputLabel, outputLabel):\n",
    "    fig = plt.figure(figsize=(10, 8))\n",
    "    ax = fig.add_subplot(111, projection='3d')\n",
    "\n",
    "    train_first_feature = [data_point[0] for data_point in trainInputs]\n",
    "    train_second_feature = [data_point[1] for data_point in trainInputs]\n",
    "\n",
    "    validation_first_feature = [data_point[0] for data_point in validationInputs]\n",
    "    validation_second_feature = [data_point[1] for data_point in validationInputs]\n",
    "\n",
    "    ax.scatter(train_first_feature, train_second_feature, trainOutputs,\n",
    "               c='r', marker='o', label='Training Data')\n",
    "    ax.scatter(validation_first_feature, validation_second_feature, validationOutputs,\n",
    "               c='g', marker='^', label='Validation Data')\n",
    "\n",
    "    ax.set_xlabel(firstInputLabel)\n",
    "    ax.set_ylabel(secondInputLabel)\n",
    "    ax.set_zlabel(outputLabel)\n",
    "    ax.set_title('3D Plot of Training and Validation Data')\n",
    "    ax.legend()\n",
    "    plt.show()\n"
   ],
   "id": "32588b8f5749d673"
  },
  {
   "metadata": {},
   "cell_type": "code",
   "outputs": [],
   "execution_count": null,
   "source": [
    "def getModelRegressorAndParametersMulti(trainInputs, trainOutputs):\n",
    "    regressor = CustomGDRegressor()\n",
    "    regressor.fit(trainInputs, trainOutputs)\n",
    "\n",
    "    w0 = regressor.intercept_\n",
    "    w1 = regressor.coef_[0]\n",
    "    w2 = regressor.coef_[1]\n",
    "\n",
    "    return regressor, w0, w1, w2\n"
   ],
   "id": "28045cfc7093d4db"
  },
  {
   "metadata": {
    "ExecuteTime": {
     "end_time": "2025-04-17T04:35:06.490131Z",
     "start_time": "2025-04-17T04:35:06.461558Z"
    }
   },
   "cell_type": "code",
   "source": [
    "def plotLearntModelMulti(trainInputs, trainOutputs, w0, w1, w2,\n",
    "                         firstInputLabel, secondInputLabel, outputLabel):\n",
    "    fig = plt.figure(figsize=(10, 8))\n",
    "    ax = fig.add_subplot(111, projection='3d')\n",
    "\n",
    "    first_feature = [data_point[0] for data_point in trainInputs]\n",
    "    second_feature = [data_point[1] for data_point in trainInputs]\n",
    "\n",
    "    ax.scatter(first_feature, second_feature, trainOutputs, c='r', marker='o', label='Training Data')\n",
    "\n",
    "    x1_min, x1_max = min(first_feature), max(first_feature)\n",
    "    x2_min, x2_max = min(second_feature), max(second_feature)\n",
    "\n",
    "    xx1, xx2 = np.meshgrid(\n",
    "        np.linspace(x1_min, x1_max, 10),\n",
    "        np.linspace(x2_min, x2_max, 10)\n",
    "    )\n",
    "\n",
    "    z = w0 + w1 * xx1 + w2 * xx2\n",
    "\n",
    "    ax.plot_surface(xx1, xx2, z, alpha=0.5, color='blue')\n",
    "\n",
    "    ax.set_xlabel(firstInputLabel)\n",
    "    ax.set_ylabel(secondInputLabel)\n",
    "    ax.set_zlabel(outputLabel)\n",
    "    ax.set_title('3D Plot of Training Data and Learnt Model')\n",
    "    ax.legend()\n",
    "    plt.show()\n"
   ],
   "id": "e138b647fc1effd4",
   "outputs": [],
   "execution_count": 21
  },
  {
   "metadata": {
    "ExecuteTime": {
     "end_time": "2025-04-17T04:35:07.266878Z",
     "start_time": "2025-04-17T04:35:07.253871Z"
    }
   },
   "cell_type": "code",
   "source": [
    "def computeValidationsMulti(regressor, validationInputs):\n",
    "    return [max(0, min(round(pred), 2)) for pred in regressor.predict(validationInputs)]\n",
    "\n"
   ],
   "id": "cf48102a9f16f01e",
   "outputs": [],
   "execution_count": 22
  },
  {
   "metadata": {
    "ExecuteTime": {
     "end_time": "2025-04-17T04:35:07.622800Z",
     "start_time": "2025-04-17T04:35:07.613835Z"
    }
   },
   "cell_type": "code",
   "source": [
    "\n",
    "def plotCompareRealAndComputedDataMulti(validationInputs, validationOutputs, computedValidationOutputs,\n",
    "                                        firstInputLabel, secondInputLabel, outputLabel):\n",
    "    fig = plt.figure(figsize=(10, 8))\n",
    "    ax = fig.add_subplot(111, projection='3d')\n",
    "\n",
    "    validation_first_feature = [data_point[0] for data_point in validationInputs]\n",
    "    validation_second_feature = [data_point[1] for data_point in validationInputs]\n",
    "\n",
    "    ax.scatter(validation_first_feature, validation_second_feature, validationOutputs,\n",
    "               c='g', marker='^', label='Real Validation Data')\n",
    "\n",
    "    ax.scatter(validation_first_feature, validation_second_feature, computedValidationOutputs,\n",
    "               c='y', marker='o', label='Computed Validation Data')\n",
    "\n",
    "    ax.set_xlabel(firstInputLabel)\n",
    "    ax.set_ylabel(secondInputLabel)\n",
    "    ax.set_zlabel(outputLabel)\n",
    "    ax.set_title('Computed vs Real Validation Data')\n",
    "    ax.legend()\n",
    "    plt.show()"
   ],
   "id": "8fde90331329d68c",
   "outputs": [],
   "execution_count": 23
  },
  {
   "metadata": {
    "ExecuteTime": {
     "end_time": "2025-04-17T04:35:08.509267Z",
     "start_time": "2025-04-17T04:35:08.485740Z"
    }
   },
   "cell_type": "code",
   "source": [
    "def predictLiniarRegressionMulti(fileName, firstInputVariabName, secondInputVariabName, outputVariabName,\n",
    "                                 firstInputLabel, secondInputLabel, outputLabel):\n",
    "    inputs, outputs = loadDataMulti(fileName, firstInputVariabName, secondInputVariabName, outputVariabName)\n",
    "\n",
    "    first_feature = [data_point[0] for data_point in inputs]\n",
    "    second_feature = [data_point[1] for data_point in inputs]\n",
    "\n",
    "    plotDataHistogram(first_feature, firstInputVariabName)\n",
    "    plotDataHistogram(second_feature, secondInputVariabName)\n",
    "    plotDataHistogram(outputs, outputVariabName)\n",
    "\n",
    "    plotCheckLinearityMulti(inputs, outputs, firstInputVariabName, secondInputVariabName, outputLabel)\n",
    "\n",
    "    trainInputs, trainOutputs, validationInputs, validationOutputs = splitDataTrainingValidation(inputs, outputs)\n",
    "\n",
    "    plotTrainingValidationDataMulti(trainInputs, trainOutputs, validationInputs, validationOutputs,\n",
    "                                    firstInputVariabName, secondInputVariabName, outputLabel)\n",
    "\n",
    "    regressor, w0, w1, w2 = getModelRegressorAndParametersMulti(trainInputs, trainOutputs)\n",
    "\n",
    "    plotLearntModelMulti(trainInputs, trainOutputs, w0, w1, w2,\n",
    "                         firstInputVariabName, secondInputVariabName, outputLabel)\n",
    "\n",
    "    computedValidationOutputs = computeValidationsMulti(regressor, validationInputs)\n",
    "    plotCompareRealAndComputedDataMulti(validationInputs, validationOutputs, computedValidationOutputs,\n",
    "                                        firstInputLabel, secondInputLabel, outputLabel)\n",
    "    return regressor\n"
   ],
   "id": "108036489377e4f0",
   "outputs": [],
   "execution_count": 24
  },
  {
   "metadata": {
    "ExecuteTime": {
     "end_time": "2025-04-16T07:24:26.473166Z",
     "start_time": "2025-04-16T07:24:26.469408Z"
    }
   },
   "cell_type": "code",
   "source": "",
   "id": "738107a0eaac722e",
   "outputs": [],
   "execution_count": null
  },
  {
   "metadata": {
    "ExecuteTime": {
     "end_time": "2025-04-16T07:24:26.699533Z",
     "start_time": "2025-04-16T07:24:26.691453Z"
    }
   },
   "cell_type": "code",
   "source": "",
   "id": "2a970f486c8b8262",
   "outputs": [],
   "execution_count": null
  },
  {
   "metadata": {},
   "cell_type": "code",
   "outputs": [],
   "execution_count": null,
   "source": "",
   "id": "d27a4bd622a7e8d7"
  }
 ],
 "metadata": {
  "kernelspec": {
   "display_name": "Python 3",
   "language": "python",
   "name": "python3"
  },
  "language_info": {
   "codemirror_mode": {
    "name": "ipython",
    "version": 2
   },
   "file_extension": ".py",
   "mimetype": "text/x-python",
   "name": "python",
   "nbconvert_exporter": "python",
   "pygments_lexer": "ipython2",
   "version": "2.7.6"
  }
 },
 "nbformat": 4,
 "nbformat_minor": 5
}
