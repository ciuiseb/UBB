{
 "cells": [
  {
   "metadata": {},
   "cell_type": "code",
   "outputs": [],
   "execution_count": null,
   "source": [
    "import csv\n",
    "import os\n",
    "\n",
    "import matplotlib.pyplot as plt\n",
    "import numpy as np\n",
    "from CustomGDRegression import CustomGDRegressor"
   ],
   "id": "656155051e83f8c1"
  },
  {
   "metadata": {},
   "cell_type": "code",
   "outputs": [],
   "execution_count": null,
   "source": [
    "def loadDataMulti(fileName, firstInputVariabName, secondInputVariabName, outputVariabName):\n",
    "    filePath = os.path.join(os.getcwd(), 'data', fileName)\n",
    "    data = []\n",
    "    dataNames = []\n",
    "    with open(filePath) as csv_file:\n",
    "        csv_reader = csv.reader(csv_file, delimiter=',')\n",
    "        line_count = 0\n",
    "        for row in csv_reader:\n",
    "            if line_count == 0:\n",
    "                dataNames = row\n",
    "            else:\n",
    "                data.append(row)\n",
    "            line_count += 1\n",
    "    firstSelectedVariable = dataNames.index(firstInputVariabName)\n",
    "    secondSelectedVariable = dataNames.index(secondInputVariabName)\n",
    "    selectedOutput = dataNames.index(outputVariabName)\n",
    "\n",
    "    valid_indices = [i for i in range(len(data))\n",
    "                     if data[i][firstSelectedVariable] and float(data[i][firstSelectedVariable]) != 0\n",
    "                     and data[i][secondSelectedVariable] and float(data[i][secondSelectedVariable]) != 0\n",
    "                     and data[i][selectedOutput] and float(data[i][selectedOutput]) != 0]\n",
    "\n",
    "    inputs = [[float(data[i][firstSelectedVariable]), float(data[i][secondSelectedVariable])]\n",
    "              for i in valid_indices]\n",
    "    outputs = [float(data[i][selectedOutput]) for i in valid_indices]\n",
    "\n",
    "    return inputs, outputs"
   ],
   "id": "424d7e88845a7144"
  },
  {
   "metadata": {
    "ExecuteTime": {
     "end_time": "2025-04-16T08:35:31.816056Z",
     "start_time": "2025-04-16T08:35:31.812987Z"
    }
   },
   "cell_type": "code",
   "source": "",
   "id": "eda187656f51a5cc",
   "outputs": [],
   "execution_count": null
  },
  {
   "metadata": {
    "ExecuteTime": {
     "end_time": "2025-04-16T08:35:32.821145Z",
     "start_time": "2025-04-16T08:35:32.808115Z"
    }
   },
   "cell_type": "code",
   "source": [
    "def plotDataHistogram(x, variableName):\n",
    "    n, bins, patches = plt.hist(x, 10)\n",
    "    plt.title('Histogram of ' + variableName)\n",
    "    plt.show()"
   ],
   "id": "590de6ad90e9b0c7",
   "outputs": [],
   "execution_count": 3
  },
  {
   "metadata": {
    "ExecuteTime": {
     "end_time": "2025-04-16T08:35:33.815660Z",
     "start_time": "2025-04-16T08:35:33.796889Z"
    }
   },
   "cell_type": "code",
   "source": [
    "def plotCheckLinearityMulti(inputs, outputs, firstInputLabel, secondInputLabel, outputLabel):\n",
    "    fig = plt.figure(figsize=(10, 8))\n",
    "    ax = fig.add_subplot(111, projection='3d')\n",
    "\n",
    "    first_feature = [data_point[0] for data_point in inputs]\n",
    "    second_feature = [data_point[1] for data_point in inputs]\n",
    "\n",
    "    ax.scatter(first_feature, second_feature, outputs, c='r', marker='o')\n",
    "\n",
    "    ax.set_xlabel(firstInputLabel)\n",
    "    ax.set_ylabel(secondInputLabel)\n",
    "    ax.set_zlabel(outputLabel)\n",
    "    ax.set_title('3D Plot of Data')\n",
    "    plt.show()\n"
   ],
   "id": "25047d1ad468cd7e",
   "outputs": [],
   "execution_count": 4
  },
  {
   "metadata": {
    "ExecuteTime": {
     "end_time": "2025-04-16T08:35:34.496714Z",
     "start_time": "2025-04-16T08:35:34.482180Z"
    }
   },
   "cell_type": "code",
   "source": [
    "def splitDataTrainingValidation(inputs, outputs):\n",
    "    np.random.seed(1)\n",
    "    indexes = [i for i in range(len(inputs))]\n",
    "    trainSample = np.random.choice(indexes, int(0.8 * len(inputs)), replace=False)\n",
    "    validationSample = [i for i in indexes if not i in trainSample]\n",
    "\n",
    "    trainInputs = [inputs[i] for i in trainSample]\n",
    "    trainOutputs = [outputs[i] for i in trainSample]\n",
    "\n",
    "    validationInputs = [inputs[i] for i in validationSample]\n",
    "    validationOutputs = [outputs[i] for i in validationSample]\n",
    "    return trainInputs, trainOutputs, validationInputs, validationOutputs"
   ],
   "id": "ce018bf8d1497df9",
   "outputs": [],
   "execution_count": 5
  },
  {
   "metadata": {
    "ExecuteTime": {
     "end_time": "2025-04-16T08:35:35.422911Z",
     "start_time": "2025-04-16T08:35:35.397678Z"
    }
   },
   "cell_type": "code",
   "source": [
    "def plotTrainingValidationDataMulti(trainInputs, trainOutputs, validationInputs, validationOutputs,\n",
    "                                    firstInputLabel, secondInputLabel, outputLabel):\n",
    "    fig = plt.figure(figsize=(10, 8))\n",
    "    ax = fig.add_subplot(111, projection='3d')\n",
    "\n",
    "    train_first_feature = [data_point[0] for data_point in trainInputs]\n",
    "    train_second_feature = [data_point[1] for data_point in trainInputs]\n",
    "\n",
    "    validation_first_feature = [data_point[0] for data_point in validationInputs]\n",
    "    validation_second_feature = [data_point[1] for data_point in validationInputs]\n",
    "\n",
    "    ax.scatter(train_first_feature, train_second_feature, trainOutputs,\n",
    "               c='r', marker='o', label='Training Data')\n",
    "    ax.scatter(validation_first_feature, validation_second_feature, validationOutputs,\n",
    "               c='g', marker='^', label='Validation Data')\n",
    "\n",
    "    ax.set_xlabel(firstInputLabel)\n",
    "    ax.set_ylabel(secondInputLabel)\n",
    "    ax.set_zlabel(outputLabel)\n",
    "    ax.set_title('3D Plot of Training and Validation Data')\n",
    "    ax.legend()\n",
    "    plt.show()\n"
   ],
   "id": "9167f069b133ceb0",
   "outputs": [],
   "execution_count": 6
  },
  {
   "metadata": {
    "ExecuteTime": {
     "end_time": "2025-04-16T08:35:36.120848Z",
     "start_time": "2025-04-16T08:35:36.106934Z"
    }
   },
   "cell_type": "code",
   "source": [
    "def getModelRegressorAndParametersMulti(trainInputs, trainOutputs):\n",
    "    regressor = CustomGDRegressor()\n",
    "    regressor.fit(trainInputs, trainOutputs)\n",
    "\n",
    "    w0 = regressor.intercept_\n",
    "    w1 = regressor.coef_[0]\n",
    "    w2 = regressor.coef_[1]\n",
    "\n",
    "    return regressor, w0, w1, w2\n"
   ],
   "id": "ebd34e4c30d1390c",
   "outputs": [],
   "execution_count": 7
  },
  {
   "metadata": {
    "ExecuteTime": {
     "end_time": "2025-04-16T08:35:36.552927Z",
     "start_time": "2025-04-16T08:35:36.532120Z"
    }
   },
   "cell_type": "code",
   "source": [
    "def plotLearntModelMulti(trainInputs, trainOutputs, w0, w1, w2,\n",
    "                         firstInputLabel, secondInputLabel, outputLabel):\n",
    "    fig = plt.figure(figsize=(10, 8))\n",
    "    ax = fig.add_subplot(111, projection='3d')\n",
    "\n",
    "    first_feature = [data_point[0] for data_point in trainInputs]\n",
    "    second_feature = [data_point[1] for data_point in trainInputs]\n",
    "\n",
    "    ax.scatter(first_feature, second_feature, trainOutputs, c='r', marker='o', label='Training Data')\n",
    "\n",
    "    x1_min, x1_max = min(first_feature), max(first_feature)\n",
    "    x2_min, x2_max = min(second_feature), max(second_feature)\n",
    "\n",
    "    xx1, xx2 = np.meshgrid(\n",
    "        np.linspace(x1_min, x1_max, 10),\n",
    "        np.linspace(x2_min, x2_max, 10)\n",
    "    )\n",
    "\n",
    "    z = w0 + w1 * xx1 + w2 * xx2\n",
    "\n",
    "    ax.plot_surface(xx1, xx2, z, alpha=0.5, color='blue')\n",
    "\n",
    "    ax.set_xlabel(firstInputLabel)\n",
    "    ax.set_ylabel(secondInputLabel)\n",
    "    ax.set_zlabel(outputLabel)\n",
    "    ax.set_title('3D Plot of Training Data and Learnt Model')\n",
    "    ax.legend()\n",
    "    plt.show()\n"
   ],
   "id": "e138b647fc1effd4",
   "outputs": [],
   "execution_count": 8
  },
  {
   "metadata": {
    "ExecuteTime": {
     "end_time": "2025-04-16T08:35:37.200486Z",
     "start_time": "2025-04-16T08:35:37.196153Z"
    }
   },
   "cell_type": "code",
   "source": [
    "def computeValidationsMulti(regressor, validationInputs):\n",
    "    return regressor.predict(validationInputs)\n"
   ],
   "id": "cf48102a9f16f01e",
   "outputs": [],
   "execution_count": 9
  },
  {
   "metadata": {
    "ExecuteTime": {
     "end_time": "2025-04-16T08:35:37.630550Z",
     "start_time": "2025-04-16T08:35:37.625238Z"
    }
   },
   "cell_type": "code",
   "source": [
    "\n",
    "def plotCompareRealAndComputedDataMulti(validationInputs, validationOutputs, computedValidationOutputs,\n",
    "                                     firstInputLabel, secondInputLabel, outputLabel):\n",
    "    fig = plt.figure(figsize=(10, 8))\n",
    "    ax = fig.add_subplot(111, projection='3d')\n",
    "\n",
    "    validation_first_feature = [data_point[0] for data_point in validationInputs]\n",
    "    validation_second_feature = [data_point[1] for data_point in validationInputs]\n",
    "\n",
    "    ax.scatter(validation_first_feature, validation_second_feature, validationOutputs,\n",
    "               c='g', marker='^', label='Real Validation Data')\n",
    "\n",
    "    ax.scatter(validation_first_feature, validation_second_feature, computedValidationOutputs,\n",
    "               c='y', marker='o', label='Computed Validation Data')\n",
    "\n",
    "    ax.set_xlabel(firstInputLabel)\n",
    "    ax.set_ylabel(secondInputLabel)\n",
    "    ax.set_zlabel(outputLabel)\n",
    "    ax.set_title('Computed vs Real Validation Data')\n",
    "    ax.legend()\n",
    "    plt.show()"
   ],
   "id": "8fde90331329d68c",
   "outputs": [],
   "execution_count": 10
  },
  {
   "metadata": {
    "ExecuteTime": {
     "end_time": "2025-04-16T08:35:38.274857Z",
     "start_time": "2025-04-16T08:35:38.241011Z"
    }
   },
   "cell_type": "code",
   "source": [
    "def predictLiniarRegressionMulti(fileName, firstInputVariabName, secondInputVariabName, outputVariabName,\n",
    "                                 firstInputLabel, secondInputLabel, outputLabel):\n",
    "    inputs, outputs = loadDataMulti(fileName, firstInputVariabName, secondInputVariabName, outputVariabName)\n",
    "\n",
    "    first_feature = [data_point[0] for data_point in inputs]\n",
    "    second_feature = [data_point[1] for data_point in inputs]\n",
    "\n",
    "    plotDataHistogram(first_feature, firstInputVariabName)\n",
    "    plotDataHistogram(second_feature, secondInputVariabName)\n",
    "    plotDataHistogram(outputs, outputVariabName)\n",
    "\n",
    "    plotCheckLinearityMulti(inputs, outputs, firstInputVariabName, secondInputVariabName, outputLabel)\n",
    "\n",
    "\n",
    "    trainInputs, trainOutputs, validationInputs, validationOutputs = splitDataTrainingValidation(inputs, outputs)\n",
    "\n",
    "    plotTrainingValidationDataMulti(trainInputs, trainOutputs, validationInputs, validationOutputs,\n",
    "                                 firstInputVariabName, secondInputVariabName, outputLabel)\n",
    "\n",
    "\n",
    "    regressor, w0, w1, w2 = getModelRegressorAndParametersMulti(trainInputs, trainOutputs)\n",
    "\n",
    "    plotLearntModelMulti(trainInputs, trainOutputs, w0, w1, w2,\n",
    "                      firstInputVariabName, secondInputVariabName, outputLabel)\n",
    "\n",
    "    computedValidationOutputs = computeValidationsMulti(regressor, validationInputs)\n",
    "    plotCompareRealAndComputedDataMulti(validationInputs, validationOutputs, computedValidationOutputs,\n",
    "                                     firstInputLabel, secondInputLabel, outputLabel)\n"
   ],
   "id": "108036489377e4f0",
   "outputs": [],
   "execution_count": 11
  },
  {
   "metadata": {
    "ExecuteTime": {
     "end_time": "2025-04-16T07:24:26.473166Z",
     "start_time": "2025-04-16T07:24:26.469408Z"
    }
   },
   "cell_type": "code",
   "source": "",
   "id": "738107a0eaac722e",
   "outputs": [],
   "execution_count": null
  },
  {
   "metadata": {
    "ExecuteTime": {
     "end_time": "2025-04-16T07:24:26.699533Z",
     "start_time": "2025-04-16T07:24:26.691453Z"
    }
   },
   "cell_type": "code",
   "source": "",
   "id": "2a970f486c8b8262",
   "outputs": [],
   "execution_count": null
  },
  {
   "metadata": {},
   "cell_type": "code",
   "outputs": [],
   "execution_count": null,
   "source": "",
   "id": "d27a4bd622a7e8d7"
  }
 ],
 "metadata": {
  "kernelspec": {
   "display_name": "Python 3",
   "language": "python",
   "name": "python3"
  },
  "language_info": {
   "codemirror_mode": {
    "name": "ipython",
    "version": 2
   },
   "file_extension": ".py",
   "mimetype": "text/x-python",
   "name": "python",
   "nbconvert_exporter": "python",
   "pygments_lexer": "ipython2",
   "version": "2.7.6"
  }
 },
 "nbformat": 4,
 "nbformat_minor": 5
}
