{
 "cells": [
  {
   "cell_type": "code",
   "id": "initial_id",
   "metadata": {
    "collapsed": true,
    "ExecuteTime": {
     "end_time": "2025-04-16T07:24:23.037936Z",
     "start_time": "2025-04-16T07:24:23.025736Z"
    }
   },
   "source": [
    "import csv\n",
    "import os\n",
    "from CustomGDRegression import CustomGDRegressor\n",
    "\n",
    "import matplotlib.pyplot as plt\n",
    "import numpy as np\n",
    "from sklearn import linear_model"
   ],
   "outputs": [],
   "execution_count": 52
  },
  {
   "metadata": {
    "ExecuteTime": {
     "end_time": "2025-04-16T07:24:23.483702Z",
     "start_time": "2025-04-16T07:24:23.466076Z"
    }
   },
   "cell_type": "code",
   "source": [
    "def loadData(fileName, inputVariabName, outputVariabName):\n",
    "    filePath = os.path.join(os.getcwd(), 'data', fileName)\n",
    "    data = []\n",
    "    dataNames = []\n",
    "    with open(filePath) as csv_file:\n",
    "        csv_reader = csv.reader(csv_file, delimiter=',')\n",
    "        line_count = 0\n",
    "        for row in csv_reader:\n",
    "            if line_count == 0:\n",
    "                dataNames = row\n",
    "            else:\n",
    "                data.append(row)\n",
    "            line_count += 1\n",
    "    selectedVariable = dataNames.index(inputVariabName)\n",
    "    selectedOutput = dataNames.index(outputVariabName)\n",
    "    valid_indices = [i for i in range(len(data))\n",
    "                     if data[i][selectedVariable] and float(data[i][selectedVariable]) != 0\n",
    "                     and data[i][selectedOutput] and float(data[i][selectedOutput]) != 0]\n",
    "    inputs = [float(data[i][selectedVariable]) for i in valid_indices]\n",
    "    outputs = [float(data[i][selectedOutput]) for i in valid_indices]\n",
    "\n",
    "    return inputs, outputs"
   ],
   "id": "2469ead53ddd77b0",
   "outputs": [],
   "execution_count": 53
  },
  {
   "metadata": {
    "ExecuteTime": {
     "end_time": "2025-04-16T07:24:23.884732Z",
     "start_time": "2025-04-16T07:24:23.876436Z"
    }
   },
   "cell_type": "code",
   "source": "",
   "id": "eda187656f51a5cc",
   "outputs": [],
   "execution_count": null
  },
  {
   "metadata": {
    "ExecuteTime": {
     "end_time": "2025-04-16T07:24:24.286643Z",
     "start_time": "2025-04-16T07:24:24.281080Z"
    }
   },
   "cell_type": "code",
   "outputs": [],
   "execution_count": 54,
   "source": [
    "def plotDataHistogram(x, variableName):\n",
    "    n, bins, patches = plt.hist(x, 10)\n",
    "    plt.title('Histogram of ' + variableName)\n",
    "    plt.show()"
   ],
   "id": "590de6ad90e9b0c7"
  },
  {
   "metadata": {
    "ExecuteTime": {
     "end_time": "2025-04-16T07:24:24.364613Z",
     "start_time": "2025-04-16T07:24:24.359010Z"
    }
   },
   "cell_type": "code",
   "outputs": [],
   "execution_count": 55,
   "source": [
    "def plotCheckLinearity(inputs, outputs, inputLabel, outputLabel):\n",
    "    plt.plot(inputs, outputs, 'ro')\n",
    "    plt.xlabel(inputLabel)\n",
    "    plt.ylabel(outputLabel)\n",
    "    plt.title(f'{inputLabel} vs. {outputLabel}')\n",
    "    plt.show()"
   ],
   "id": "25047d1ad468cd7e"
  },
  {
   "metadata": {
    "ExecuteTime": {
     "end_time": "2025-04-16T07:24:24.840680Z",
     "start_time": "2025-04-16T07:24:24.820318Z"
    }
   },
   "cell_type": "code",
   "outputs": [],
   "execution_count": 56,
   "source": [
    "def splitDataTrainingValidation(inputs, outputs):\n",
    "    np.random.seed(1)\n",
    "    indexes = [i for i in range(len(inputs))]\n",
    "    trainSample = np.random.choice(indexes, int(0.8 * len(inputs)), replace=False)\n",
    "    validationSample = [i for i in indexes if not i in trainSample]\n",
    "\n",
    "    trainInputs = [inputs[i] for i in trainSample]\n",
    "    trainOutputs = [outputs[i] for i in trainSample]\n",
    "\n",
    "    validationInputs = [inputs[i] for i in validationSample]\n",
    "    validationOutputs = [outputs[i] for i in validationSample]\n",
    "    return trainInputs, trainOutputs, validationInputs, validationOutputs"
   ],
   "id": "ce018bf8d1497df9"
  },
  {
   "metadata": {
    "ExecuteTime": {
     "end_time": "2025-04-16T07:24:25.303898Z",
     "start_time": "2025-04-16T07:24:25.290946Z"
    }
   },
   "cell_type": "code",
   "outputs": [],
   "execution_count": 57,
   "source": [
    "def plotTrainingValidationData(trainInputs, trainOutputs, validationInputs, validationOutputs, inputLabel, outputLabel):\n",
    "    plt.plot(trainInputs, trainOutputs, 'ro', label='training data')\n",
    "    plt.plot(validationInputs, validationOutputs, 'g^', label='validation data')\n",
    "    plt.title('train and validation data')\n",
    "    plt.xlabel(inputLabel)\n",
    "    plt.ylabel(outputLabel)\n",
    "    plt.legend()\n",
    "    plt.show()"
   ],
   "id": "9167f069b133ceb0"
  },
  {
   "metadata": {
    "ExecuteTime": {
     "end_time": "2025-04-16T07:24:25.859216Z",
     "start_time": "2025-04-16T07:24:25.843787Z"
    }
   },
   "cell_type": "code",
   "source": [
    "def plotLearntModel(trainInputs, trainOutputs, w0, w1, inputLabel, outputLabel):\n",
    "    noOfPoints = 1000\n",
    "    xref = []\n",
    "    val = min(trainInputs)\n",
    "    step = (max(trainInputs) - min(trainInputs)) / noOfPoints\n",
    "    for i in range(1, noOfPoints):\n",
    "        xref.append(val)\n",
    "        val += step\n",
    "    yref = [w0 + w1 * el for el in xref]\n",
    "\n",
    "    plt.plot(trainInputs, trainOutputs, 'ro', label='training data')\n",
    "    plt.plot(xref, yref, 'b-', label='learnt model')\n",
    "    plt.title('train data and the learnt model')\n",
    "    plt.xlabel(inputLabel)\n",
    "    plt.ylabel(outputLabel)\n",
    "    plt.legend()\n",
    "    plt.show()"
   ],
   "id": "e138b647fc1effd4",
   "outputs": [],
   "execution_count": 59
  },
  {
   "metadata": {
    "ExecuteTime": {
     "end_time": "2025-04-16T07:24:25.619453Z",
     "start_time": "2025-04-16T07:24:25.605782Z"
    }
   },
   "cell_type": "code",
   "outputs": [],
   "execution_count": 58,
   "source": [
    "def getModelRegressorAndParameters(trainInputs, trainOutputs):\n",
    "    xx = [[el] for el in trainInputs]\n",
    "    regressor = CustomGDRegressor()\n",
    "    regressor.fit(xx, trainOutputs)\n",
    "    w0, w1 = regressor.intercept_, regressor.coef_[0]\n",
    "    return regressor, w0, w1"
   ],
   "id": "ebd34e4c30d1390c"
  },
  {
   "metadata": {},
   "cell_type": "code",
   "source": [
    "def computeValidations(regressor, validationInputs):\n",
    "    return regressor.predict([[x] for x in validationInputs])\n",
    "\n",
    "\n",
    "def plotCompareRealAndComputedData(validationInputs, validationOutputs, computedValidationOutputs, inputLabel,\n",
    "                                   outputLabel):\n",
    "    plt.plot(validationInputs, computedValidationOutputs, 'yo', label='computed test data')\n",
    "    plt.plot(validationInputs, validationOutputs, 'g^', label='real test data')\n",
    "    plt.title('computed validation and real validation data')\n",
    "    plt.xlabel(inputLabel)\n",
    "    plt.ylabel(outputLabel)\n",
    "    plt.legend()\n",
    "    plt.show()"
   ],
   "id": "6f4aba5ade9ec759",
   "outputs": [],
   "execution_count": null
  },
  {
   "metadata": {
    "ExecuteTime": {
     "end_time": "2025-04-16T07:24:26.062831Z",
     "start_time": "2025-04-16T07:24:26.056929Z"
    }
   },
   "cell_type": "code",
   "outputs": [],
   "execution_count": 60,
   "source": [
    "from sklearn.metrics import mean_squared_error\n",
    "\n",
    "\n",
    "def printError(computedTestOutputs, validationOutputs):\n",
    "    error = 0.0\n",
    "    for t1, t2 in zip(computedTestOutputs, validationOutputs):\n",
    "        error += (t1 - t2) ** 2\n",
    "    error = error / len(validationOutputs)\n",
    "    print(\"prediction error (manual): \", error)\n",
    "\n",
    "    error = mean_squared_error(validationOutputs, computedTestOutputs)\n",
    "    print(\"prediction error (tool): \", error)"
   ],
   "id": "8fde90331329d68c"
  },
  {
   "metadata": {
    "ExecuteTime": {
     "end_time": "2025-04-16T07:24:26.268585Z",
     "start_time": "2025-04-16T07:24:26.252343Z"
    }
   },
   "cell_type": "code",
   "source": [
    "def predictLiniarRegression(fileName, inputVariabName, outputVariabName, inputsLabel, outputLabel):\n",
    "    inputs, outputs = loadData(fileName, inputVariabName, outputVariabName)\n",
    "    plotDataHistogram(inputs, inputVariabName)\n",
    "    plotDataHistogram(outputs, outputVariabName)\n",
    "\n",
    "    plotCheckLinearity(inputs, outputs, inputsLabel, outputLabel)\n",
    "\n",
    "    input_mean, input_std = np.mean(inputs), np.std(inputs)\n",
    "    output_mean, output_std = np.mean(outputs), np.std(outputs)\n",
    "\n",
    "    inputs = [(x - input_mean) / input_std for x in inputs]\n",
    "    outputs = [(y - output_mean) / output_std for y in outputs]\n",
    "\n",
    "    plotDataHistogram(inputs, f\"Normalized {inputVariabName}\")\n",
    "    plotDataHistogram(outputs, f\"Normalized {outputVariabName}\")\n",
    "\n",
    "    trainInputs, trainOutputs, validationInputs, validationOutputs = splitDataTrainingValidation(inputs, outputs)\n",
    "    plotTrainingValidationData(trainInputs, trainOutputs, validationInputs, validationOutputs, inputsLabel, outputLabel)\n",
    "\n",
    "    regressor, w0, w1 = getModelRegressorAndParameters(trainInputs, trainOutputs)\n",
    "    plotLearntModel(trainInputs, trainOutputs, w0, w1, inputsLabel, outputLabel)\n",
    "\n",
    "    computedValidationsOutputs = computeValidations(regressor, validationInputs)\n",
    "    plotCompareRealAndComputedData(validationInputs, validationOutputs, computedValidationsOutputs, inputsLabel,\n",
    "                                   outputLabel)\n",
    "    printError(computedValidationsOutputs, validationOutputs)"
   ],
   "id": "108036489377e4f0",
   "outputs": [],
   "execution_count": 61
  },
  {
   "metadata": {
    "ExecuteTime": {
     "end_time": "2025-04-16T07:24:26.473166Z",
     "start_time": "2025-04-16T07:24:26.469408Z"
    }
   },
   "cell_type": "code",
   "source": "",
   "id": "738107a0eaac722e",
   "outputs": [],
   "execution_count": null
  },
  {
   "metadata": {
    "ExecuteTime": {
     "end_time": "2025-04-16T07:24:26.699533Z",
     "start_time": "2025-04-16T07:24:26.691453Z"
    }
   },
   "cell_type": "code",
   "source": "",
   "id": "2a970f486c8b8262",
   "outputs": [],
   "execution_count": null
  },
  {
   "metadata": {},
   "cell_type": "code",
   "outputs": [],
   "execution_count": null,
   "source": "",
   "id": "d27a4bd622a7e8d7"
  }
 ],
 "metadata": {
  "kernelspec": {
   "display_name": "Python 3",
   "language": "python",
   "name": "python3"
  },
  "language_info": {
   "codemirror_mode": {
    "name": "ipython",
    "version": 2
   },
   "file_extension": ".py",
   "mimetype": "text/x-python",
   "name": "python",
   "nbconvert_exporter": "python",
   "pygments_lexer": "ipython2",
   "version": "2.7.6"
  }
 },
 "nbformat": 4,
 "nbformat_minor": 5
}
