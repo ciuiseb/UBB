{
 "cells": [
  {
   "metadata": {
    "ExecuteTime": {
     "end_time": "2025-05-15T08:40:57.096275Z",
     "start_time": "2025-05-15T08:40:57.072851Z"
    }
   },
   "cell_type": "code",
   "source": [
    "import numpy as np\n",
    "import torch\n",
    "import torch.nn as nn\n",
    "import torch.optim as optim\n",
    "from datasets import load_dataset\n",
    "from sklearn.feature_extraction.text import CountVectorizer\n",
    "from sklearn.metrics import accuracy_score\n",
    "\n",
    "vectorizer = CountVectorizer()"
   ],
   "id": "faed6b45c55e7636",
   "outputs": [],
   "execution_count": 24
  },
  {
   "metadata": {
    "ExecuteTime": {
     "end_time": "2025-05-15T08:40:57.667293Z",
     "start_time": "2025-05-15T08:40:57.650373Z"
    }
   },
   "cell_type": "code",
   "source": [
    "def load_data():\n",
    "    dataset = load_dataset(\"daily_dialog\")\n",
    "    all_sentences = []\n",
    "    all_emotions = []\n",
    "\n",
    "    for example in dataset[\"train\"]:\n",
    "        dialogues = example[\"dialog\"]\n",
    "        emotions = example[\"emotion\"]\n",
    "\n",
    "        for sentence, emotion in zip(dialogues, emotions):\n",
    "            all_sentences.append(sentence)\n",
    "            all_emotions.append(emotion)\n",
    "\n",
    "    return all_sentences, all_emotions\n"
   ],
   "id": "973bfb7257492e3d",
   "outputs": [],
   "execution_count": 25
  },
  {
   "metadata": {
    "ExecuteTime": {
     "end_time": "2025-05-15T08:40:58.173127Z",
     "start_time": "2025-05-15T08:40:58.163649Z"
    }
   },
   "cell_type": "code",
   "source": [
    "def split_data(sentences, emotion_labels, train_ratio=0.8, seed=5):\n",
    "    np.random.seed(seed)\n",
    "\n",
    "    n_samples = len(sentences)\n",
    "    indices = np.arange(n_samples)\n",
    "    np.random.shuffle(indices)\n",
    "    split_point = int(train_ratio * n_samples)\n",
    "\n",
    "    train_indices = indices[:split_point]\n",
    "    test_indices = indices[split_point:]\n",
    "\n",
    "    train_sentences = [sentences[i] for i in train_indices]\n",
    "    train_emotions = [emotion_labels[i] for i in train_indices]\n",
    "    test_sentences = [sentences[i] for i in test_indices]\n",
    "    test_emotions = [emotion_labels[i] for i in test_indices]\n",
    "\n",
    "\n",
    "    print(f\"Number of training sentences: {len(train_sentences)}\")\n",
    "    print(f\"Number of test sentences: {len(test_sentences)}\")\n",
    "    print()\n",
    "    return train_sentences, train_emotions, test_sentences, test_emotions\n"
   ],
   "id": "e5d2cdca61be78c8",
   "outputs": [],
   "execution_count": 26
  },
  {
   "metadata": {
    "ExecuteTime": {
     "end_time": "2025-05-15T08:40:58.666786Z",
     "start_time": "2025-05-15T08:40:58.650319Z"
    }
   },
   "cell_type": "code",
   "source": [
    "def extract_bow_features(trainInputs, testInputs):\n",
    "    print(f\"Number of train sentences: {len(train_sentences)}\")\n",
    "    print(f\"Number of test sentences: {len(test_sentences)}\")\n",
    "\n",
    "    train_features = vectorizer.fit_transform(train_sentences)\n",
    "\n",
    "    test_features = vectorizer.transform(test_sentences)\n",
    "\n",
    "    print(f\"Vocabulary size: {len(vectorizer.vocabulary_)} words\")\n",
    "    print(f\"Training features shape: {train_features.shape}\")\n",
    "    print(f\"Testing features shape: {test_features.shape}\")\n",
    "    print()\n",
    "    return train_features, test_features"
   ],
   "id": "f16eb53f70d7a5aa",
   "outputs": [],
   "execution_count": 27
  },
  {
   "metadata": {
    "ExecuteTime": {
     "end_time": "2025-05-15T08:40:59.225301Z",
     "start_time": "2025-05-15T08:40:59.197915Z"
    }
   },
   "cell_type": "code",
   "source": [
    "def train_model(train_features, train_emotions):\n",
    "    X = torch.FloatTensor(train_features)\n",
    "    y = torch.LongTensor(train_emotions)\n",
    "\n",
    "    input_size = X.shape[1]\n",
    "    hidden_size = 32\n",
    "    num_classes = len(torch.unique(y))\n",
    "    model = nn.Sequential(\n",
    "        nn.Linear(input_size, hidden_size),\n",
    "        nn.ReLU(),\n",
    "        nn.Linear(hidden_size, num_classes)\n",
    "    )\n",
    "\n",
    "    criterion = nn.CrossEntropyLoss()\n",
    "    optimizer = optim.Adam(model.parameters(), lr=0.001)\n",
    "\n",
    "    epochs = 10\n",
    "    for epoch in range(epochs):\n",
    "        outputs = model(X)\n",
    "        loss = criterion(outputs, y)\n",
    "\n",
    "        optimizer.zero_grad()\n",
    "        loss.backward()\n",
    "        optimizer.step()\n",
    "\n",
    "    return model\n",
    "\n",
    "def test_model(model, test_features, test_emotions):\n",
    "    X = torch.FloatTensor(test_features.toarray())\n",
    "\n",
    "    with torch.no_grad():\n",
    "        outputs = model(X)\n",
    "        _, predicted = torch.max(outputs.data, 1)\n",
    "\n",
    "    predictions = predicted.numpy()\n",
    "    accuracy = accuracy_score(test_emotions, predictions)\n",
    "    print(f\"Test accuracy: {accuracy:.4f}\")"
   ],
   "id": "b2091f2b68a9a1a1",
   "outputs": [],
   "execution_count": 28
  },
  {
   "metadata": {
    "ExecuteTime": {
     "end_time": "2025-05-15T08:41:31.718943Z",
     "start_time": "2025-05-15T08:40:59.875103Z"
    }
   },
   "cell_type": "code",
   "source": [
    "if __name__ == '__main__':\n",
    "    sentences, labels = load_data()\n",
    "    train_sentences, train_emotions, test_sentences, test_emotions = split_data(sentences, labels)\n",
    "    print()\n",
    "    train_features, test_features = extract_bow_features(train_sentences, test_sentences)\n",
    "\n",
    "    clf = train_model(train_features.toarray(), train_emotions)\n",
    "    test_model(clf, test_features, test_emotions)\n",
    "\n"
   ],
   "id": "f94101faa84e25f9",
   "outputs": [
    {
     "name": "stdout",
     "output_type": "stream",
     "text": [
      "Number of training sentences: 69736\n",
      "Number of test sentences: 17434\n",
      "\n",
      "\n",
      "Number of train sentences: 69736\n",
      "Number of test sentences: 17434\n",
      "Vocabulary size: 16428 words\n",
      "Training features shape: (69736, 16428)\n",
      "Testing features shape: (17434, 16428)\n",
      "\n",
      "Test accuracy: 0.8284\n"
     ]
    }
   ],
   "execution_count": 29
  }
 ],
 "metadata": {
  "kernelspec": {
   "display_name": "Python 3",
   "language": "python",
   "name": "python3"
  },
  "language_info": {
   "codemirror_mode": {
    "name": "ipython",
    "version": 2
   },
   "file_extension": ".py",
   "mimetype": "text/x-python",
   "name": "python",
   "nbconvert_exporter": "python",
   "pygments_lexer": "ipython2",
   "version": "2.7.6"
  }
 },
 "nbformat": 4,
 "nbformat_minor": 5
}
