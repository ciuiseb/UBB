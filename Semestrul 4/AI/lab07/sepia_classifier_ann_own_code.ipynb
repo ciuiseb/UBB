{
 "cells": [
  {
   "metadata": {
    "ExecuteTime": {
     "end_time": "2025-05-15T06:13:25.826624Z",
     "start_time": "2025-05-15T06:13:25.812277Z"
    }
   },
   "cell_type": "code",
   "source": [
    "import os\n",
    "\n",
    "import matplotlib.pyplot as plt\n",
    "import numpy as np\n",
    "from PIL import Image\n",
    "from sklearn.metrics import confusion_matrix, accuracy_score, precision_score, recall_score\n",
    "from sklearn.model_selection import train_test_split\n",
    "from sklearn.preprocessing import StandardScaler\n",
    "from SgdAnn import SgdAnn"
   ],
   "id": "978b87dfce356ec8",
   "outputs": [],
   "execution_count": 45
  },
  {
   "metadata": {
    "ExecuteTime": {
     "end_time": "2025-05-15T06:13:26.486811Z",
     "start_time": "2025-05-15T06:13:26.467534Z"
    }
   },
   "cell_type": "code",
   "source": [
    "def load_data(directory_path=\"./data\"):\n",
    "    inputs = []\n",
    "    outputs = []\n",
    "    outputNames = [\"normal\", \"sepia\"]\n",
    "\n",
    "    for filename in os.listdir(directory_path):\n",
    "        is_sepia = 1 if filename.startswith(\"sepia_\") else 0\n",
    "        img_path = os.path.join(directory_path, filename)\n",
    "        try:\n",
    "            img = Image.open(img_path).convert('RGB')\n",
    "            img = img.resize((64, 64))\n",
    "\n",
    "            img_array = np.array(img)\n",
    "            r_mean = np.mean(img_array[:, :, 0])\n",
    "            g_mean = np.mean(img_array[:, :, 1])\n",
    "            b_mean = np.mean(img_array[:, :, 2])\n",
    "\n",
    "            rb_ratio = r_mean / b_mean\n",
    "\n",
    "            features = [r_mean, g_mean, b_mean, rb_ratio]\n",
    "\n",
    "            inputs.append(features)\n",
    "            outputs.append(is_sepia)\n",
    "        except Exception as e:\n",
    "            print(f\"Error loading {filename}: {e}\")\n",
    "\n",
    "    return np.array(inputs), np.array(outputs), outputNames"
   ],
   "id": "986541ade249a578",
   "outputs": [],
   "execution_count": 46
  },
  {
   "metadata": {
    "ExecuteTime": {
     "end_time": "2025-05-15T06:13:27.780771Z",
     "start_time": "2025-05-15T06:13:27.130590Z"
    }
   },
   "cell_type": "code",
   "source": [
    "inputs, outputs, outputNames = load_data()\n",
    "print(\"Feature names: ['avg_red', 'avg_green', 'avg_blue', 'red_blue_ratio']\")"
   ],
   "id": "139020e9c74bb971",
   "outputs": [
    {
     "name": "stdout",
     "output_type": "stream",
     "text": [
      "Feature names: ['avg_red', 'avg_green', 'avg_blue', 'red_blue_ratio']\n"
     ]
    }
   ],
   "execution_count": 47
  },
  {
   "metadata": {
    "ExecuteTime": {
     "end_time": "2025-05-15T06:13:28.376705Z",
     "start_time": "2025-05-15T06:13:28.365203Z"
    }
   },
   "cell_type": "code",
   "source": [
    "def splitData(inputs, outputs):\n",
    "    np.random.seed(42)\n",
    "    trainInputs, testInputs, trainOutputs, testOutputs = train_test_split(\n",
    "        inputs, outputs, test_size=0.2, random_state=42, stratify=outputs\n",
    "    )\n",
    "\n",
    "    return trainInputs, trainOutputs, testInputs, testOutputs"
   ],
   "id": "9efb0477d994d2c9",
   "outputs": [],
   "execution_count": 48
  },
  {
   "metadata": {
    "ExecuteTime": {
     "end_time": "2025-05-15T06:13:29.279795Z",
     "start_time": "2025-05-15T06:13:29.268873Z"
    }
   },
   "cell_type": "code",
   "source": [
    "def normalisation(trainData, testData):\n",
    "    scaler = StandardScaler()\n",
    "    normalizedTrainData = scaler.fit_transform(trainData)\n",
    "    normalizedTestData = scaler.transform(testData)\n",
    "\n",
    "    return normalizedTrainData, normalizedTestData"
   ],
   "id": "693e2d674083dae9",
   "outputs": [],
   "execution_count": 49
  },
  {
   "metadata": {
    "ExecuteTime": {
     "end_time": "2025-05-15T06:13:30.208015Z",
     "start_time": "2025-05-15T06:13:30.054608Z"
    }
   },
   "cell_type": "code",
   "source": [
    "trainInputs, trainOutputs, testInputs, testOutputs = splitData(inputs, outputs)\n",
    "trainInputsNorm, testInputsNorm = normalisation(trainInputs, testInputs)\n",
    "\n",
    "print(f\"Training set class distribution: {np.bincount(trainOutputs)}\")\n",
    "bins = range(len(outputNames) + 1)\n",
    "plt.hist(trainOutputs, bins=bins, rwidth=0.8)\n",
    "bin_w = (max(bins) - min(bins)) / (len(bins) - 1)\n",
    "plt.xticks(np.arange(min(bins) + bin_w / 2, max(bins), bin_w), outputNames)\n",
    "plt.title(\"Training Dataset Class Distribution\")\n",
    "plt.ylabel(\"Count\")\n",
    "plt.show()\n"
   ],
   "id": "a5248b3e6fbee3c3",
   "outputs": [
    {
     "name": "stdout",
     "output_type": "stream",
     "text": [
      "Training set class distribution: [224 224]\n"
     ]
    },
    {
     "data": {
      "text/plain": [
       "<Figure size 640x480 with 1 Axes>"
      ],
      "image/png": "[encoded data removed]"
     },
     "metadata": {},
     "output_type": "display_data"
    }
   ],
   "execution_count": 50
  },
  {
   "metadata": {
    "ExecuteTime": {
     "end_time": "2025-05-15T06:13:31.027004Z",
     "start_time": "2025-05-15T06:13:30.897844Z"
    }
   },
   "cell_type": "code",
   "source": [
    "clf = SgdAnn(\n",
    "    hidden_layer_sizes=(32, 16),\n",
    "    max_iter=100,\n",
    "    random_state=42,\n",
    "    learning_rate_init=0.001,\n",
    "    early_stopping=False,\n",
    "    verbose=True,\n",
    "    tol=1e-8\n",
    ")\n",
    "\n",
    "clf.fit(trainInputsNorm, trainOutputs)\n",
    "predictedLabels = clf.predict(testInputsNorm)"
   ],
   "id": "662c82e748175ed1",
   "outputs": [
    {
     "name": "stdout",
     "output_type": "stream",
     "text": [
      "Iteration 0, Loss = 0.75169578\n",
      "Iteration 10, Loss = 0.74686980\n",
      "Iteration 20, Loss = 0.74218439\n",
      "Iteration 30, Loss = 0.73761984\n",
      "Iteration 40, Loss = 0.73323552\n",
      "Iteration 50, Loss = 0.72908047\n",
      "Iteration 60, Loss = 0.72507842\n",
      "Iteration 70, Loss = 0.72121413\n",
      "Iteration 80, Loss = 0.71748284\n",
      "Iteration 90, Loss = 0.71389210\n"
     ]
    }
   ],
   "execution_count": 51
  },
  {
   "metadata": {
    "ExecuteTime": {
     "end_time": "2025-05-15T06:13:31.746127Z",
     "start_time": "2025-05-15T06:13:31.736560Z"
    }
   },
   "cell_type": "code",
   "source": [
    "def plotConfusionMatrix(cm, labels, title='Confusion Matrix'):\n",
    "    fig, ax = plt.subplots()\n",
    "    cax = ax.matshow(cm, cmap='Blues')\n",
    "    plt.title(title)\n",
    "    plt.colorbar(cax)\n",
    "    ax.set_xticklabels([''] + list(labels))\n",
    "    ax.set_yticklabels([''] + list(labels))\n",
    "\n",
    "    for i in range(cm.shape[0]):\n",
    "        for j in range(cm.shape[1]):\n",
    "            ax.text(j, i, str(cm[i, j]), va='center', ha='center')\n",
    "\n",
    "    plt.xlabel('Predicted')\n",
    "    plt.ylabel('True')\n",
    "    plt.show()"
   ],
   "id": "eab822a3adfae3e",
   "outputs": [],
   "execution_count": 52
  },
  {
   "metadata": {
    "ExecuteTime": {
     "end_time": "2025-05-15T06:13:32.317681Z",
     "start_time": "2025-05-15T06:13:32.312237Z"
    }
   },
   "cell_type": "code",
   "source": [
    "def evalMultiClass(realLabels, computedLabels, labelNames):\n",
    "    cm = confusion_matrix(realLabels, computedLabels)\n",
    "    acc = accuracy_score(realLabels, computedLabels)\n",
    "    prec = precision_score(realLabels, computedLabels, average=None, zero_division=0)\n",
    "    recall = recall_score(realLabels, computedLabels, average=None, zero_division=0)\n",
    "    precision_dict = dict(zip(labelNames, prec))\n",
    "    recall_dict = dict(zip(labelNames, recall))\n",
    "    return acc, precision_dict, recall_dict, cm"
   ],
   "id": "a0d7c0aa223ecb8f",
   "outputs": [],
   "execution_count": 53
  },
  {
   "metadata": {
    "ExecuteTime": {
     "end_time": "2025-05-15T06:13:32.960095Z",
     "start_time": "2025-05-15T06:13:32.736773Z"
    }
   },
   "cell_type": "code",
   "source": [
    "acc, prec, rec, cm = evalMultiClass(testOutputs, predictedLabels, outputNames)\n",
    "plotConfusionMatrix(cm, outputNames, \"SEPIA classification\")\n",
    "print(\"Accuracy:\", acc)\n",
    "print(\"Precision per class:\", prec)\n",
    "print(\"Recall per class:\", rec)"
   ],
   "id": "8f6a5015f31834b1",
   "outputs": [
    {
     "name": "stderr",
     "output_type": "stream",
     "text": [
      "C:\\Users\\ciuis\\AppData\\Local\\Temp\\ipykernel_27996\\1608597769.py:6: UserWarning: set_ticklabels() should only be used with a fixed number of ticks, i.e. after set_ticks() or using a FixedLocator.\n",
      "  ax.set_xticklabels([''] + list(labels))\n",
      "C:\\Users\\ciuis\\AppData\\Local\\Temp\\ipykernel_27996\\1608597769.py:7: UserWarning: set_ticklabels() should only be used with a fixed number of ticks, i.e. after set_ticks() or using a FixedLocator.\n",
      "  ax.set_yticklabels([''] + list(labels))\n"
     ]
    },
    {
     "data": {
      "text/plain": [
       "<Figure size 640x480 with 2 Axes>"
      ],
      "image/png": "[encoded data removed]"
     },
     "metadata": {},
     "output_type": "display_data"
    },
    {
     "name": "stdout",
     "output_type": "stream",
     "text": [
      "Accuracy: 0.4375\n",
      "Precision per class: {'normal': np.float64(0.42857142857142855), 'sepia': np.float64(0.4444444444444444)}\n",
      "Recall per class: {'normal': np.float64(0.375), 'sepia': np.float64(0.5)}\n"
     ]
    }
   ],
   "execution_count": 54
  },
  {
   "metadata": {},
   "cell_type": "code",
   "outputs": [],
   "execution_count": null,
   "source": "",
   "id": "3a41bccb716d8d43"
  }
 ],
 "metadata": {
  "kernelspec": {
   "name": "python3",
   "language": "python",
   "display_name": "Python 3 (ipykernel)"
  }
 },
 "nbformat": 5,
 "nbformat_minor": 9
}
