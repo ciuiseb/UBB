{
 "cells": [
  {
   "metadata": {
    "ExecuteTime": {
     "end_time": "2025-05-15T10:12:38.755023Z",
     "start_time": "2025-05-15T10:12:34.864810Z"
    }
   },
   "cell_type": "code",
   "source": [
    "import numpy as np\n",
    "import matplotlib.pyplot as plt\n",
    "from sklearn.model_selection import train_test_split\n",
    "from sklearn import neural_network\n",
    "from sklearn.metrics import confusion_matrix, accuracy_score, precision_score, recall_score\n",
    "from sklearn.preprocessing import StandardScaler\n",
    "import os\n",
    "from PIL import Image"
   ],
   "id": "978b87dfce356ec8",
   "outputs": [],
   "execution_count": 2
  },
  {
   "metadata": {
    "ExecuteTime": {
     "end_time": "2025-05-15T10:12:39.469953Z",
     "start_time": "2025-05-15T10:12:39.458272Z"
    }
   },
   "cell_type": "code",
   "source": [
    "def load_data(directory_path=\"./data\"):\n",
    "    inputs = []\n",
    "    outputs = []\n",
    "    outputNames = [\"normal\", \"sepia\"]\n",
    "\n",
    "    for filename in os.listdir(directory_path):\n",
    "        is_sepia = 1 if filename.startswith(\"sepia_\") else 0\n",
    "        img_path = os.path.join(directory_path, filename)\n",
    "        try:\n",
    "            img = Image.open(img_path).convert('RGB')\n",
    "            img = img.resize((64, 64))\n",
    "\n",
    "            img_array = np.array(img)\n",
    "            r_mean = np.mean(img_array[:,:,0])\n",
    "            g_mean = np.mean(img_array[:,:,1])\n",
    "            b_mean = np.mean(img_array[:,:,2])\n",
    "\n",
    "\n",
    "            rb_ratio = r_mean / b_mean\n",
    "\n",
    "\n",
    "            features = [r_mean, g_mean, b_mean, rb_ratio]\n",
    "\n",
    "\n",
    "            inputs.append(features)\n",
    "            outputs.append(is_sepia)\n",
    "        except Exception as e:\n",
    "            print(f\"Error loading {filename}: {e}\")\n",
    "\n",
    "    return np.array(inputs), np.array(outputs), outputNames"
   ],
   "id": "986541ade249a578",
   "outputs": [],
   "execution_count": 3
  },
  {
   "metadata": {
    "ExecuteTime": {
     "end_time": "2025-05-15T10:12:41.420756Z",
     "start_time": "2025-05-15T10:12:40.554090Z"
    }
   },
   "cell_type": "code",
   "source": [
    "inputs, outputs, outputNames = load_data()\n",
    "print(\"Feature names: ['avg_red', 'avg_green', 'avg_blue', 'red_blue_ratio']\")\n",
    "print(f\"Sample input examples: {inputs[0]}\")\n",
    "print(f\"Corresponding labels: {outputs[0]}\")"
   ],
   "id": "139020e9c74bb971",
   "outputs": [
    {
     "name": "stdout",
     "output_type": "stream",
     "text": [
      "Feature names: ['avg_red', 'avg_green', 'avg_blue', 'red_blue_ratio']\n",
      "Sample input examples: [100.04370117 102.45678711  93.99267578   1.06437763]\n",
      "Corresponding labels: 0\n"
     ]
    }
   ],
   "execution_count": 4
  },
  {
   "metadata": {
    "ExecuteTime": {
     "end_time": "2025-05-15T10:12:41.517375Z",
     "start_time": "2025-05-15T10:12:41.508817Z"
    }
   },
   "cell_type": "code",
   "source": [
    "def splitData(inputs, outputs):\n",
    "    np.random.seed(42)\n",
    "    trainInputs, testInputs, trainOutputs, testOutputs = train_test_split(\n",
    "        inputs, outputs, test_size=0.2, random_state=42, stratify=outputs\n",
    "    )\n",
    "\n",
    "    return trainInputs, trainOutputs, testInputs, testOutputs"
   ],
   "id": "9efb0477d994d2c9",
   "outputs": [],
   "execution_count": 5
  },
  {
   "metadata": {
    "ExecuteTime": {
     "end_time": "2025-05-15T10:12:41.952925Z",
     "start_time": "2025-05-15T10:12:41.944903Z"
    }
   },
   "cell_type": "code",
   "source": [
    "def normalisation(trainData, testData):\n",
    "    scaler = StandardScaler()\n",
    "    normalizedTrainData = scaler.fit_transform(trainData)\n",
    "    normalizedTestData = scaler.transform(testData)\n",
    "\n",
    "    return normalizedTrainData, normalizedTestData"
   ],
   "id": "693e2d674083dae9",
   "outputs": [],
   "execution_count": 6
  },
  {
   "metadata": {
    "ExecuteTime": {
     "end_time": "2025-05-15T10:12:42.695608Z",
     "start_time": "2025-05-15T10:12:42.486232Z"
    }
   },
   "cell_type": "code",
   "source": [
    "trainInputs, trainOutputs, testInputs, testOutputs = splitData(inputs, outputs)\n",
    "trainInputsNorm, testInputsNorm = normalisation(trainInputs, testInputs)\n",
    "\n",
    "\n",
    "print(f\"Training set class distribution: {np.bincount(trainOutputs)}\")\n",
    "bins = range(len(outputNames) + 1)\n",
    "plt.hist(trainOutputs, bins=bins, rwidth=0.8)\n",
    "bin_w = (max(bins) - min(bins)) / (len(bins) - 1)\n",
    "plt.xticks(np.arange(min(bins)+bin_w/2, max(bins), bin_w), outputNames)\n",
    "plt.title(\"Training Dataset Class Distribution\")\n",
    "plt.ylabel(\"Count\")\n",
    "plt.show()\n"
   ],
   "id": "a5248b3e6fbee3c3",
   "outputs": [
    {
     "name": "stdout",
     "output_type": "stream",
     "text": [
      "Training set class distribution: [224 224]\n"
     ]
    },
    {
     "data": {
      "text/plain": [
       "<Figure size 640x480 with 1 Axes>"
      ],
      "image/png": "[encoded data removed]"
     },
     "metadata": {},
     "output_type": "display_data"
    }
   ],
   "execution_count": 7
  },
  {
   "metadata": {
    "ExecuteTime": {
     "end_time": "2025-05-15T10:12:43.675583Z",
     "start_time": "2025-05-15T10:12:43.437331Z"
    }
   },
   "cell_type": "code",
   "source": [
    "clf = neural_network.MLPClassifier(\n",
    "    hidden_layer_sizes=(32, 16),\n",
    "    activation='relu',\n",
    "    max_iter=100,\n",
    "    solver='sgd',\n",
    "    random_state=42,\n",
    "    learning_rate_init=0.001,\n",
    "    early_stopping=False,\n",
    "    verbose=True,\n",
    "    tol=1e-8\n",
    ")\n",
    "\n",
    "clf.fit(trainInputsNorm, trainOutputs)\n",
    "predictedLabels = clf.predict(testInputsNorm)"
   ],
   "id": "662c82e748175ed1",
   "outputs": [
    {
     "name": "stdout",
     "output_type": "stream",
     "text": [
      "Iteration 1, loss = 0.79745726\n",
      "Iteration 2, loss = 0.79464122\n",
      "Iteration 3, loss = 0.79015410\n",
      "Iteration 4, loss = 0.78458789\n",
      "Iteration 5, loss = 0.77818974\n",
      "Iteration 6, loss = 0.77143283\n",
      "Iteration 7, loss = 0.76472098\n",
      "Iteration 8, loss = 0.75839777\n",
      "Iteration 9, loss = 0.75160456\n",
      "Iteration 10, loss = 0.74556384\n",
      "Iteration 11, loss = 0.73904766\n",
      "Iteration 12, loss = 0.73296451\n",
      "Iteration 13, loss = 0.72737021\n",
      "Iteration 14, loss = 0.72176378\n",
      "Iteration 15, loss = 0.71691534\n",
      "Iteration 16, loss = 0.71181316\n",
      "Iteration 17, loss = 0.70741975\n",
      "Iteration 18, loss = 0.70288250\n",
      "Iteration 19, loss = 0.69871249\n",
      "Iteration 20, loss = 0.69484077\n",
      "Iteration 21, loss = 0.69120749\n",
      "Iteration 22, loss = 0.68752788\n",
      "Iteration 23, loss = 0.68406058\n",
      "Iteration 24, loss = 0.68074084\n",
      "Iteration 25, loss = 0.67737131\n",
      "Iteration 26, loss = 0.67419811\n",
      "Iteration 27, loss = 0.67123588\n",
      "Iteration 28, loss = 0.66838206\n",
      "Iteration 29, loss = 0.66552342\n",
      "Iteration 30, loss = 0.66293086\n",
      "Iteration 31, loss = 0.66037556\n",
      "Iteration 32, loss = 0.65784269\n",
      "Iteration 33, loss = 0.65539607\n",
      "Iteration 34, loss = 0.65292233\n",
      "Iteration 35, loss = 0.65057727\n",
      "Iteration 36, loss = 0.64812355\n",
      "Iteration 37, loss = 0.64579501\n",
      "Iteration 38, loss = 0.64352393\n",
      "Iteration 39, loss = 0.64130792\n",
      "Iteration 40, loss = 0.63913166\n",
      "Iteration 41, loss = 0.63705561\n",
      "Iteration 42, loss = 0.63495401\n",
      "Iteration 43, loss = 0.63293046\n",
      "Iteration 44, loss = 0.63089191\n",
      "Iteration 45, loss = 0.62900529\n",
      "Iteration 46, loss = 0.62695827\n",
      "Iteration 47, loss = 0.62508409\n",
      "Iteration 48, loss = 0.62326639\n",
      "Iteration 49, loss = 0.62150711\n",
      "Iteration 50, loss = 0.61989326\n",
      "Iteration 51, loss = 0.61840142\n",
      "Iteration 52, loss = 0.61703905\n",
      "Iteration 53, loss = 0.61562415\n",
      "Iteration 54, loss = 0.61433873\n",
      "Iteration 55, loss = 0.61298125\n",
      "Iteration 56, loss = 0.61173320\n",
      "Iteration 57, loss = 0.61050017\n",
      "Iteration 58, loss = 0.60927397\n",
      "Iteration 59, loss = 0.60807405\n",
      "Iteration 60, loss = 0.60690425\n",
      "Iteration 61, loss = 0.60573765\n",
      "Iteration 62, loss = 0.60457706\n",
      "Iteration 63, loss = 0.60348069\n",
      "Iteration 64, loss = 0.60236588\n",
      "Iteration 65, loss = 0.60126343\n",
      "Iteration 66, loss = 0.60016617\n",
      "Iteration 67, loss = 0.59901950\n",
      "Iteration 68, loss = 0.59790201\n",
      "Iteration 69, loss = 0.59677046\n",
      "Iteration 70, loss = 0.59562656\n",
      "Iteration 71, loss = 0.59452468\n",
      "Iteration 72, loss = 0.59340745\n",
      "Iteration 73, loss = 0.59227041\n",
      "Iteration 74, loss = 0.59116846\n",
      "Iteration 75, loss = 0.59002714\n",
      "Iteration 76, loss = 0.58892877\n",
      "Iteration 77, loss = 0.58782770\n",
      "Iteration 78, loss = 0.58673995\n",
      "Iteration 79, loss = 0.58566321\n",
      "Iteration 80, loss = 0.58457905\n",
      "Iteration 81, loss = 0.58348197\n",
      "Iteration 82, loss = 0.58239479\n",
      "Iteration 83, loss = 0.58132480\n",
      "Iteration 84, loss = 0.58027509\n",
      "Iteration 85, loss = 0.57916907\n",
      "Iteration 86, loss = 0.57810214\n",
      "Iteration 87, loss = 0.57705289\n",
      "Iteration 88, loss = 0.57596764\n",
      "Iteration 89, loss = 0.57491772\n",
      "Iteration 90, loss = 0.57384179\n",
      "Iteration 91, loss = 0.57280324\n",
      "Iteration 92, loss = 0.57175769\n",
      "Iteration 93, loss = 0.57075662\n",
      "Iteration 94, loss = 0.56973332\n",
      "Iteration 95, loss = 0.56872177\n",
      "Iteration 96, loss = 0.56772366\n",
      "Iteration 97, loss = 0.56672404\n",
      "Iteration 98, loss = 0.56575089\n",
      "Iteration 99, loss = 0.56479433\n",
      "Iteration 100, loss = 0.56379840\n"
     ]
    },
    {
     "name": "stderr",
     "output_type": "stream",
     "text": [
      "C:\\Users\\ciuis\\Desktop\\FACULTATE\\ANUL II\\SEM I\\STATISTICA\\lab 2\\.venv\\Lib\\site-packages\\sklearn\\neural_network\\_multilayer_perceptron.py:691: ConvergenceWarning: Stochastic Optimizer: Maximum iterations (100) reached and the optimization hasn't converged yet.\n",
      "  warnings.warn(\n"
     ]
    }
   ],
   "execution_count": 8
  },
  {
   "metadata": {
    "ExecuteTime": {
     "end_time": "2025-05-15T10:12:44.904863Z",
     "start_time": "2025-05-15T10:12:44.895846Z"
    }
   },
   "cell_type": "code",
   "source": [
    "def plotConfusionMatrix(cm, labels, title='Confusion Matrix'):\n",
    "    fig, ax = plt.subplots()\n",
    "    cax = ax.matshow(cm, cmap='Blues')\n",
    "    plt.title(title)\n",
    "    plt.colorbar(cax)\n",
    "    ax.set_xticklabels([''] + list(labels))\n",
    "    ax.set_yticklabels([''] + list(labels))\n",
    "\n",
    "\n",
    "    for i in range(cm.shape[0]):\n",
    "        for j in range(cm.shape[1]):\n",
    "            ax.text(j, i, str(cm[i, j]), va='center', ha='center')\n",
    "\n",
    "    plt.xlabel('Predicted')\n",
    "    plt.ylabel('True')\n",
    "    plt.show()"
   ],
   "id": "eab822a3adfae3e",
   "outputs": [],
   "execution_count": 9
  },
  {
   "metadata": {
    "ExecuteTime": {
     "end_time": "2025-05-15T10:12:45.932368Z",
     "start_time": "2025-05-15T10:12:45.922472Z"
    }
   },
   "cell_type": "code",
   "source": [
    "def evalMultiClass(realLabels, computedLabels, labelNames):\n",
    "    cm = confusion_matrix(realLabels, computedLabels)\n",
    "    acc = accuracy_score(realLabels, computedLabels)\n",
    "    prec = precision_score(realLabels, computedLabels, average=None, zero_division=0)\n",
    "    recall = recall_score(realLabels, computedLabels, average=None, zero_division=0)\n",
    "    precision_dict = dict(zip(labelNames, prec))\n",
    "    recall_dict = dict(zip(labelNames, recall))\n",
    "    return acc, precision_dict, recall_dict, cm"
   ],
   "id": "a0d7c0aa223ecb8f",
   "outputs": [],
   "execution_count": 10
  },
  {
   "metadata": {
    "ExecuteTime": {
     "end_time": "2025-05-15T10:12:48.700057Z",
     "start_time": "2025-05-15T10:12:48.421385Z"
    }
   },
   "cell_type": "code",
   "source": [
    "acc, prec, rec, cm = evalMultiClass(testOutputs, predictedLabels, outputNames)\n",
    "plotConfusionMatrix(cm, outputNames, \"SEPIA classification\")\n",
    "print(\"Accuracy:\", acc)\n",
    "print(\"Precision per class:\", prec)\n",
    "print(\"Recall per class:\", rec)"
   ],
   "id": "8f6a5015f31834b1",
   "outputs": [
    {
     "name": "stderr",
     "output_type": "stream",
     "text": [
      "C:\\Users\\ciuis\\AppData\\Local\\Temp\\ipykernel_26036\\2331578263.py:6: UserWarning: set_ticklabels() should only be used with a fixed number of ticks, i.e. after set_ticks() or using a FixedLocator.\n",
      "  ax.set_xticklabels([''] + list(labels))\n",
      "C:\\Users\\ciuis\\AppData\\Local\\Temp\\ipykernel_26036\\2331578263.py:7: UserWarning: set_ticklabels() should only be used with a fixed number of ticks, i.e. after set_ticks() or using a FixedLocator.\n",
      "  ax.set_yticklabels([''] + list(labels))\n"
     ]
    },
    {
     "data": {
      "text/plain": [
       "<Figure size 640x480 with 2 Axes>"
      ],
      "image/png": "[encoded data removed]"
     },
     "metadata": {},
     "output_type": "display_data"
    },
    {
     "name": "stdout",
     "output_type": "stream",
     "text": [
      "Accuracy: 0.6785714285714286\n",
      "Precision per class: {'normal': 0.625, 'sepia': 0.8125}\n",
      "Recall per class: {'normal': 0.8928571428571429, 'sepia': 0.4642857142857143}\n"
     ]
    }
   ],
   "execution_count": 11
  },
  {
   "metadata": {},
   "cell_type": "code",
   "outputs": [],
   "execution_count": null,
   "source": "",
   "id": "3a41bccb716d8d43"
  }
 ],
 "metadata": {
  "kernelspec": {
   "name": "python3",
   "language": "python",
   "display_name": "Python 3 (ipykernel)"
  }
 },
 "nbformat": 5,
 "nbformat_minor": 9
}
